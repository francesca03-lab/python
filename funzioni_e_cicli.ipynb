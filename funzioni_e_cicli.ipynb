{
  "nbformat": 4,
  "nbformat_minor": 0,
  "metadata": {
    "colab": {
      "provenance": [],
      "authorship_tag": "ABX9TyN8eTO59z8ur8joW5SASC1X",
      "include_colab_link": true
    },
    "kernelspec": {
      "name": "python3",
      "display_name": "Python 3"
    },
    "language_info": {
      "name": "python"
    }
  },
  "cells": [
    {
      "cell_type": "markdown",
      "metadata": {
        "id": "view-in-github",
        "colab_type": "text"
      },
      "source": [
        "<a href=\"https://colab.research.google.com/github/francesca03-lab/python/blob/main/funzioni_e_cicli.ipynb\" target=\"_parent\"><img src=\"https://colab.research.google.com/assets/colab-badge.svg\" alt=\"Open In Colab\"/></a>"
      ]
    },
    {
      "cell_type": "code",
      "execution_count": 5,
      "metadata": {
        "colab": {
          "base_uri": "https://localhost:8080/"
        },
        "id": "Xq6axPfmgAls",
        "outputId": "8d4ed9d5-269e-4d37-8ac4-59c6826c99e5"
      },
      "outputs": [
        {
          "output_type": "stream",
          "name": "stdout",
          "text": [
            "5\n"
          ]
        }
      ],
      "source": [
        "#Esercizio 1\n",
        "#Dichiarare due variabili \"numero1\" e \"numero2\" e assegnargli due numeri interi. Eseguire l'addizione tra le due variabili e assegnare il risultato ad una nuova variabile \"somma\", mandandola a schermo\n",
        "numero1 = 2\n",
        "numero2 = 3\n",
        "print (numero1 + numero2)"
      ]
    },
    {
      "cell_type": "code",
      "source": [
        "somma = 0\n",
        "for i in range (0,3):\n",
        "  numero = int(input(\"Inserisci un numero: \"))\n",
        "  somma = somma + numero\n",
        "print (somma)\n"
      ],
      "metadata": {
        "colab": {
          "base_uri": "https://localhost:8080/"
        },
        "id": "eeUeT7UYFwUd",
        "outputId": "27093721-a36e-4133-8b12-00f474a7ffb8"
      },
      "execution_count": 9,
      "outputs": [
        {
          "output_type": "stream",
          "name": "stdout",
          "text": [
            "Inserisci un numero: 2\n",
            "Inserisci un numero: 2\n",
            "Inserisci un numero: 2\n",
            "6\n"
          ]
        }
      ]
    },
    {
      "cell_type": "code",
      "source": [
        "#Eseguire la sottrazione tra le due variabili e assegnare il risultato ad una nuova variabile \"differenza\". Mandare a schermo\n",
        "numero1 = int(input(\"Inserisci il primo numero: \"))\n",
        "numero2 = int(input(\"Inserisci il secondo numero: \"))\n",
        "differenza = numero1 - numero2  # Esegui la sottrazione\n",
        "print(differenza)  # Stampa il risultato\n"
      ],
      "metadata": {
        "colab": {
          "base_uri": "https://localhost:8080/"
        },
        "id": "qUVh-ifXIg_6",
        "outputId": "48111b8f-f020-4151-bec7-f0a248b6bb67"
      },
      "execution_count": 14,
      "outputs": [
        {
          "output_type": "stream",
          "name": "stdout",
          "text": [
            "Inserisci il primo numero: 4\n",
            "Inserisci il secondo numero: 4\n",
            "0\n"
          ]
        }
      ]
    },
    {
      "cell_type": "code",
      "source": [
        "def sottrazione(num1, num2):\n",
        "    # Esegui la sottrazione tra i due numeri\n",
        "    return num1 - num2\n",
        "\n",
        "# Richiedi i numeri all'utente\n",
        "numero1 = int(input(\"Inserisci il primo numero: \"))\n",
        "numero2 = int(input(\"Inserisci il secondo numero: \"))\n",
        "\n",
        "# Chiama la funzione e memorizza il risultato\n",
        "differenza = sottrazione(numero1, numero2)\n",
        "\n",
        "# Stampa il risultato\n",
        "print(f\"La differenza tra {numero1} e {numero2} è: {differenza}\")\n"
      ],
      "metadata": {
        "colab": {
          "base_uri": "https://localhost:8080/"
        },
        "id": "1Yn57Qc0JKAC",
        "outputId": "80c1db29-37b6-4490-e08f-c49348cd4d2e"
      },
      "execution_count": 15,
      "outputs": [
        {
          "output_type": "stream",
          "name": "stdout",
          "text": [
            "Inserisci il primo numero: 4\n",
            "Inserisci il secondo numero: 2\n",
            "La differenza tra 4 e 2 è: 2\n"
          ]
        }
      ]
    },
    {
      "cell_type": "code",
      "source": [
        "#Eseguire la moltiplicazione tra le due variabili e assegnare il risultato ad una nuova variabile \"prodotto\". Mandare a schermo.\n",
        "prodotto = 1\n",
        "for i in range (0,2):\n",
        "  numero = float(input(\"Inserisci un numero: \"))\n",
        "  prodotto = prodotto * numero\n",
        "print (prodotto)"
      ],
      "metadata": {
        "colab": {
          "base_uri": "https://localhost:8080/"
        },
        "id": "TrNu_kVnJTSp",
        "outputId": "ce6c11c8-f437-4799-fbc2-1c628120e888"
      },
      "execution_count": 20,
      "outputs": [
        {
          "output_type": "stream",
          "name": "stdout",
          "text": [
            "Inserisci un numero: 2.3\n",
            "Inserisci un numero: 1.2\n",
            "2.76\n"
          ]
        }
      ]
    },
    {
      "cell_type": "code",
      "source": [
        "#Eseguire la divisione tra le due variabili e assegnare il risultato ad una nuova variabile \"quoziente\". Mandare a schermo.\n",
        "divisione = float(input(\"Inserisci un numero: \"))\n",
        "numero = float(input(\"Inserisci un altro numero: \"))\n",
        "divisione = divisione / numero\n",
        "print(f\"Il risultato della divisione è: {divisione}\")\n"
      ],
      "metadata": {
        "colab": {
          "base_uri": "https://localhost:8080/"
        },
        "id": "z_YAyZ-cJnKr",
        "outputId": "2b5c8fc4-227f-4c80-f15a-d902269a6fe8"
      },
      "execution_count": 27,
      "outputs": [
        {
          "output_type": "stream",
          "name": "stdout",
          "text": [
            "Inserisci un numero: 4\n",
            "Inserisci un altro numero: 2\n",
            "Il risultato della divisione è: 2.0\n"
          ]
        }
      ]
    },
    {
      "cell_type": "code",
      "source": [
        "#Eseguire l'operazione di modulo tra le due variabili e assegnare il risultato ad una nuova variabile \"resto\". Mandare a schermo.\n",
        "resto = int(input(\"Inserisci un numero: \"))\n",
        "numero = int(input(\"Inserisci un altro numero: \"))\n",
        "resto = resto % numero\n",
        "print(resto)"
      ],
      "metadata": {
        "colab": {
          "base_uri": "https://localhost:8080/"
        },
        "id": "BYoQPIMVNdV2",
        "outputId": "b585aa63-860e-4e55-fdfc-3809ff3227e2"
      },
      "execution_count": 28,
      "outputs": [
        {
          "output_type": "stream",
          "name": "stdout",
          "text": [
            "Inserisci un numero: 5\n",
            "Inserisci un altro numero: 2\n",
            "1\n"
          ]
        }
      ]
    },
    {
      "cell_type": "code",
      "source": [
        "#Incrementare \"numero1\" di 1 e decrementare \"numero2\" di 3. Mandare a schermo i nuovi valori.\n",
        "numero1 = int(input(\"Inserisci un numero: \"))\n",
        "numero2 = int(input(\"Inserisci un altro numero: \"))\n",
        "numero1 = numero1 + 1\n",
        "numero2 = numero2 - 3\n",
        "print(numero1)\n",
        "print(numero2)"
      ],
      "metadata": {
        "colab": {
          "base_uri": "https://localhost:8080/"
        },
        "id": "LTxLx-L2Oqr6",
        "outputId": "7641894d-6c89-4a87-d24d-b84fa616fe23"
      },
      "execution_count": 35,
      "outputs": [
        {
          "output_type": "stream",
          "name": "stdout",
          "text": [
            "Inserisci un numero: 2\n",
            "Inserisci un altro numero: 3\n",
            "3\n",
            "0\n"
          ]
        }
      ]
    },
    {
      "cell_type": "code",
      "source": [
        "#Moltiplicare \"numero1\" per se stesso + 5, sommarlo quindi a \"numero2\" elevato alla seconda. Assegnare l'operazione alla variabile risultato e mandare a schermo\n",
        "numero1 = int(input(\"Inserisci un numero: \"))\n",
        "numero2 = int(input(\"Inserisci un altro numero: \"))\n",
        "risultato = (numero1 * (numero1 + 5)) + (numero2 ** 2)\n",
        "print(risultato)"
      ],
      "metadata": {
        "colab": {
          "base_uri": "https://localhost:8080/"
        },
        "id": "nsj_Ww_rPp5H",
        "outputId": "265d4729-296d-405b-a762-1da4ce2629f1"
      },
      "execution_count": 36,
      "outputs": [
        {
          "output_type": "stream",
          "name": "stdout",
          "text": [
            "Inserisci un numero: 2\n",
            "Inserisci un altro numero: 4\n",
            "30\n"
          ]
        }
      ]
    },
    {
      "cell_type": "code",
      "source": [
        "a = int(input(\"Inserisci un numero: \"))\n",
        "b = int(input(\"Inserisci un altro numero: \"))\n",
        "def operazione (a,b):\n",
        "  risultato = (a * (a + 5)) + (b ** 2)\n",
        "  return risultato\n",
        "print(operazione(a,b))"
      ],
      "metadata": {
        "colab": {
          "base_uri": "https://localhost:8080/"
        },
        "id": "eAuHTgnoS5pp",
        "outputId": "8d1ba173-2f6c-4596-a73f-e293ced3cd20"
      },
      "execution_count": 45,
      "outputs": [
        {
          "output_type": "stream",
          "name": "stdout",
          "text": [
            "Inserisci un numero: 2\n",
            "Inserisci un altro numero: 4\n",
            "30\n"
          ]
        }
      ]
    },
    {
      "cell_type": "code",
      "source": [
        "#Assegnare una stringa \"Il meglio deve ancora venire\" ad una variabile \"stringa\" e utilizzare il metodo split() per dividere la stringa in una lista di parole.\n",
        "stringa = \"Il meglio deve ancora venire\"\n",
        "lista_parole = stringa.split()\n",
        "print(lista_parole)"
      ],
      "metadata": {
        "colab": {
          "base_uri": "https://localhost:8080/"
        },
        "id": "dDRCWNv2tDxO",
        "outputId": "522c3650-7909-4028-c6ce-1dc9807789a4"
      },
      "execution_count": 46,
      "outputs": [
        {
          "output_type": "stream",
          "name": "stdout",
          "text": [
            "['Il', 'meglio', 'deve', 'ancora', 'venire']\n"
          ]
        }
      ]
    },
    {
      "cell_type": "code",
      "source": [
        "testo = \"ciao mondo\"\n",
        "print(testo.upper())\n"
      ],
      "metadata": {
        "colab": {
          "base_uri": "https://localhost:8080/"
        },
        "id": "I1ON6R0AwZM3",
        "outputId": "bd811c9f-77b7-4a02-ea2e-da84a87c9fe3"
      },
      "execution_count": 47,
      "outputs": [
        {
          "output_type": "stream",
          "name": "stdout",
          "text": [
            "CIAO MONDO\n"
          ]
        }
      ]
    },
    {
      "cell_type": "code",
      "source": [
        "testo = \"CIAO MONDO\"\n",
        "print(testo.lower())\n",
        "\n"
      ],
      "metadata": {
        "colab": {
          "base_uri": "https://localhost:8080/"
        },
        "id": "XMsud-QNwdR3",
        "outputId": "00e242d5-df82-4daa-a54c-19f75b9d1011"
      },
      "execution_count": 50,
      "outputs": [
        {
          "output_type": "stream",
          "name": "stdout",
          "text": [
            "ciao mondo\n"
          ]
        }
      ]
    },
    {
      "cell_type": "code",
      "source": [
        "#Assegnare una stringa \"Hello World\" ad una variabile \"stringa\" e utilizzare il metodo replace() per sostituire \"World\" con \"Python\n",
        "testo = \"Hello World\"\n",
        "nuovo_testo = testo.replace(\"World\", \"Python\")\n",
        "print(nuovo_testo)"
      ],
      "metadata": {
        "colab": {
          "base_uri": "https://localhost:8080/"
        },
        "id": "zbMzVp8fwh9X",
        "outputId": "8c6d3f0f-d8ec-445e-ec8f-d31230e62059"
      },
      "execution_count": 52,
      "outputs": [
        {
          "output_type": "stream",
          "name": "stdout",
          "text": [
            "Hello Python\n"
          ]
        }
      ]
    },
    {
      "cell_type": "code",
      "source": [
        "#una stringa \"abcdefg\" ad una variabile \"stringa\" ed estrarre i primi tre caratteri.\n",
        "testo = \"abcdefg\"\n",
        "primi_tre_caratteri = testo[0:3]\n",
        "print(primi_tre_caratteri)"
      ],
      "metadata": {
        "colab": {
          "base_uri": "https://localhost:8080/"
        },
        "id": "k3wVaIT2xOG5",
        "outputId": "67f0273b-e2b7-44d4-ca50-b1ac701615e9"
      },
      "execution_count": 55,
      "outputs": [
        {
          "output_type": "stream",
          "name": "stdout",
          "text": [
            "abc\n"
          ]
        }
      ]
    },
    {
      "cell_type": "code",
      "source": [
        "#Assegnare una stringa \"Python\" ad una variabile \"stringa\" e utilizzare il metodo startswith() per verificare se la stringa inizia con \"Py\".\n",
        "testo = \"Python\"\n",
        "if testo.startswith(\"Py\"):\n",
        "    print(\"La stringa inizia con 'Py'.\")\n",
        "else:\n",
        "    print(\"La stringa non inizia con 'Py'.\")"
      ],
      "metadata": {
        "colab": {
          "base_uri": "https://localhost:8080/"
        },
        "id": "0PstlGUTzl8Z",
        "outputId": "b912747f-e0c1-402f-a415-14a57f0b09b3"
      },
      "execution_count": 56,
      "outputs": [
        {
          "output_type": "stream",
          "name": "stdout",
          "text": [
            "La stringa inizia con 'Py'.\n"
          ]
        }
      ]
    },
    {
      "cell_type": "code",
      "source": [
        "#Assegnare una stringa \"Ciao mondo\" ad una variabile \"stringa\" e utilizzare il metodo count() per contare il numero di volte in cui la lettera \"o\" appare nella stringa.\n",
        "testo = \"Ciao mondo\"\n",
        "numero_occorrenze = testo.count(\"o\")\n",
        "print(f\"La lettera 'o' appare {numero_occorrenze} volte nella stringa.\")"
      ],
      "metadata": {
        "colab": {
          "base_uri": "https://localhost:8080/"
        },
        "id": "gIOdJDd90mX2",
        "outputId": "34e12aca-acb1-4e9c-b8e9-48b57c52c2f3"
      },
      "execution_count": 57,
      "outputs": [
        {
          "output_type": "stream",
          "name": "stdout",
          "text": [
            "La lettera 'o' appare 3 volte nella stringa.\n"
          ]
        }
      ]
    },
    {
      "cell_type": "code",
      "source": [
        "testo = \"ciao semplicemente ciao, difficile trovar parole poco serie...\"\n",
        "numero_ciao=testo.count(\"ciao\")\n",
        "print(numero_ciao)"
      ],
      "metadata": {
        "colab": {
          "base_uri": "https://localhost:8080/"
        },
        "id": "xhE6vdoZ1YV0",
        "outputId": "eb527659-8f95-47a5-875a-21709126ce81"
      },
      "execution_count": 58,
      "outputs": [
        {
          "output_type": "stream",
          "name": "stdout",
          "text": [
            "2\n"
          ]
        }
      ]
    },
    {
      "cell_type": "code",
      "source": [
        "#Assegnare una stringa \"Ciao mondo\" ad una variabile \"stringa\". Mandare quindi a schermo gli ultimi 5 caratteri della stringa in maiuscolo, sostituendo il carattere \"o\" con \"k\".\n",
        "str = \"Ciao mondo\"\n",
        "last_five= str[-5:].upper().replace(\"O\",\"K\")\n",
        "print(last_five)\n"
      ],
      "metadata": {
        "colab": {
          "base_uri": "https://localhost:8080/"
        },
        "id": "j7XK6pw61mlc",
        "outputId": "589c932f-7556-4ea3-8f3a-2a01326fd2f1"
      },
      "execution_count": 63,
      "outputs": [
        {
          "output_type": "stream",
          "name": "stdout",
          "text": [
            "MKNDK\n"
          ]
        }
      ]
    },
    {
      "cell_type": "code",
      "source": [
        "#Assegnare una stringa \" Ciao \" ad una variabile \"stringa\" e utilizzare il metodo strip() per rimuovere gli spazi vuoti all'inizio e alla fine della stringa..\n",
        "testo = \" Ciao \"\n",
        "testo_senza_spazi = testo.strip()\n",
        "print(testo_senza_spazi)\n"
      ],
      "metadata": {
        "colab": {
          "base_uri": "https://localhost:8080/"
        },
        "id": "4h5HqLSZ2uui",
        "outputId": "ba449842-9371-4fd5-e933-2ac103cd511e"
      },
      "execution_count": 70,
      "outputs": [
        {
          "output_type": "stream",
          "name": "stdout",
          "text": [
            "Ciao\n"
          ]
        }
      ]
    },
    {
      "cell_type": "code",
      "source": [],
      "metadata": {
        "id": "iKw0uW363Pq9"
      },
      "execution_count": null,
      "outputs": []
    }
  ]
}