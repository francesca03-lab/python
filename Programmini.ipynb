{
  "nbformat": 4,
  "nbformat_minor": 0,
  "metadata": {
    "colab": {
      "provenance": [],
      "authorship_tag": "ABX9TyM6X65RVkYfWC6ZOcf5ysJe",
      "include_colab_link": true
    },
    "kernelspec": {
      "name": "python3",
      "display_name": "Python 3"
    },
    "language_info": {
      "name": "python"
    }
  },
  "cells": [
    {
      "cell_type": "markdown",
      "metadata": {
        "id": "view-in-github",
        "colab_type": "text"
      },
      "source": [
        "<a href=\"https://colab.research.google.com/github/francesca03-lab/python/blob/main/Programmini.ipynb\" target=\"_parent\"><img src=\"https://colab.research.google.com/assets/colab-badge.svg\" alt=\"Open In Colab\"/></a>"
      ]
    },
    {
      "cell_type": "code",
      "execution_count": null,
      "metadata": {
        "colab": {
          "base_uri": "https://localhost:8080/"
        },
        "id": "U61VB3BKL9XW",
        "outputId": "1a7f0a9f-6544-4ddc-9e7d-44d853fee327"
      },
      "outputs": [
        {
          "output_type": "stream",
          "name": "stdout",
          "text": [
            "Inserire numero: 4\n",
            "Numero piccolo\n"
          ]
        }
      ],
      "source": [
        "x = input(\"Inserire numero: \")\n",
        "if (int(x) > 10):\n",
        "    print(\"Numero grande\")\n",
        "elif (int(x) >0):\n",
        "    print(\"Numero piccolo\")\n",
        "elif (float(x)<= 0):\n",
        "    print(\"Numero negativo\")\n"
      ]
    },
    {
      "cell_type": "code",
      "source": [
        "#for è usato per iterare le liste\n",
        "#per contare\n",
        "for i in range(5):\n",
        "  print(i)\n",
        "#per liste\n",
        "frutti = [\"mela\", \"banana\", \"torta\"]\n",
        "for frutto in frutti:\n",
        "  print(frutto)"
      ],
      "metadata": {
        "colab": {
          "base_uri": "https://localhost:8080/"
        },
        "id": "pwp2QOM1MGp6",
        "outputId": "1a5a1940-251b-47a9-8a2e-d47fc2b09d16"
      },
      "execution_count": null,
      "outputs": [
        {
          "output_type": "stream",
          "name": "stdout",
          "text": [
            "0\n",
            "1\n",
            "2\n",
            "3\n",
            "4\n",
            "mela\n",
            "banana\n",
            "torta\n"
          ]
        }
      ]
    },
    {
      "cell_type": "code",
      "source": [
        "cibi = [\"mela\", \"latte\", \"frutta\"]\n",
        "for i in cibi:\n",
        "  print(i)\n",
        "len(cibi)\n",
        "#la funzione len mi conta quanti elementi ho nella lista"
      ],
      "metadata": {
        "colab": {
          "base_uri": "https://localhost:8080/"
        },
        "id": "DFyjj-e5M0Mk",
        "outputId": "58fe2aab-9628-4195-c58d-439a1d90cb35"
      },
      "execution_count": null,
      "outputs": [
        {
          "output_type": "stream",
          "name": "stdout",
          "text": [
            "mela\n",
            "latte\n",
            "frutta\n"
          ]
        },
        {
          "output_type": "execute_result",
          "data": {
            "text/plain": [
              "3"
            ]
          },
          "metadata": {},
          "execution_count": 6
        }
      ]
    },
    {
      "cell_type": "code",
      "source": [
        "#progettino calcolo delle velocità\n",
        "def calcolo_velocità(vi, a, t):\n",
        "  velocità_finale=vi + a*t\n",
        "  return velocità_finale\n",
        "vi_finale = float(input(\"Inserire velocità iniziale: \"))\n",
        "a_finale = float(input(\"Inserire accelerazione: \"))\n",
        "t_finale= float(input(\"Inserire tempo: \"))\n",
        "risultato = calcolo_velocità(vi_finale, a_finale, t_finale)\n",
        "print(risultato)"
      ],
      "metadata": {
        "colab": {
          "base_uri": "https://localhost:8080/"
        },
        "id": "aC4Ql9kJNKVk",
        "outputId": "c48659f0-481d-4820-f458-9ce7803c9d1f"
      },
      "execution_count": null,
      "outputs": [
        {
          "output_type": "stream",
          "name": "stdout",
          "text": [
            "Inserire velocità iniziale: 2\n",
            "Inserire accelerazione: 3\n",
            "Inserire tempo: 4\n",
            "14.0\n"
          ]
        }
      ]
    },
    {
      "cell_type": "code",
      "source": [
        "#calcolo energia cinetica\n",
        "def calcolo_energia(m, v):\n",
        "  energia = 0.5 * m * v * v\n",
        "  return energia\n",
        "v_richiesto=float(input(\"Inserire velocità: \"))\n",
        "massa_richiesta= float(input(\"Inserire massa: \"))\n",
        "risultato = calcolo_energia (v_richiesto, massa_richiesta)\n",
        "print(risultato)\n"
      ],
      "metadata": {
        "colab": {
          "base_uri": "https://localhost:8080/"
        },
        "id": "L4olnLlMOfMa",
        "outputId": "6cfcb428-82bc-4354-dd02-15e66eb0afa4"
      },
      "execution_count": null,
      "outputs": [
        {
          "output_type": "stream",
          "name": "stdout",
          "text": [
            "Inserire velocità: 2\n",
            "Inserire massa: 3\n",
            "9.0\n"
          ]
        }
      ]
    },
    {
      "cell_type": "code",
      "source": [
        "import random\n"
      ],
      "metadata": {
        "id": "TrZDpMNMPHY-"
      },
      "execution_count": null,
      "outputs": []
    },
    {
      "cell_type": "code",
      "source": [
        "import math\n"
      ],
      "metadata": {
        "id": "LhdI1T_RPX6Q"
      },
      "execution_count": null,
      "outputs": []
    },
    {
      "cell_type": "code",
      "source": [
        "#calcolo della gittata\n",
        "import math\n",
        "G = 9.81\n",
        "def calcolo_della_gittata (theta, v):\n",
        "  gittata = (v*v*math.sin(2*theta))/G\n",
        "  return gittata\n",
        "def calcolo_altezza_massima(v,theta):\n",
        "  altezza= (v*v*math.sin(theta)*math.sin(theta))/(2*G)\n",
        "  return altezza\n",
        "x=float(input(\"Inserire velocità: \"))\n",
        "y=float(input(\"Inserire angolo: \"))\n",
        "z= math.radians(y)\n",
        "risultato1= calcolo_della_gittata(z,x)\n",
        "risultato2=calcolo_altezza_massima(x,z)\n",
        "print(risultato1, risultato2)"
      ],
      "metadata": {
        "colab": {
          "base_uri": "https://localhost:8080/"
        },
        "id": "DgVy53zAQMJK",
        "outputId": "ef1efc2f-883e-4cd2-99ae-4f327dbfbf03"
      },
      "execution_count": null,
      "outputs": [
        {
          "output_type": "stream",
          "name": "stdout",
          "text": [
            "Inserire velocità: 10\n",
            "Inserire angolo: 45\n",
            "10.19367991845056 2.5484199796126394\n"
          ]
        }
      ]
    },
    {
      "cell_type": "code",
      "source": [
        "\n"
      ],
      "metadata": {
        "id": "3PdzHAjbRgRU"
      },
      "execution_count": null,
      "outputs": []
    },
    {
      "cell_type": "code",
      "source": [],
      "metadata": {
        "id": "Xc-K5qwlS7CE"
      },
      "execution_count": null,
      "outputs": []
    }
  ]
}