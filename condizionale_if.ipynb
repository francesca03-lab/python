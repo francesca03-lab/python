{
  "nbformat": 4,
  "nbformat_minor": 0,
  "metadata": {
    "colab": {
      "provenance": [],
      "authorship_tag": "ABX9TyPgVTHpaY3MvMbmIQ9Tjp78",
      "include_colab_link": true
    },
    "kernelspec": {
      "name": "python3",
      "display_name": "Python 3"
    },
    "language_info": {
      "name": "python"
    }
  },
  "cells": [
    {
      "cell_type": "markdown",
      "metadata": {
        "id": "view-in-github",
        "colab_type": "text"
      },
      "source": [
        "<a href=\"https://colab.research.google.com/github/francesca03-lab/python/blob/main/condizionale_if.ipynb\" target=\"_parent\"><img src=\"https://colab.research.google.com/assets/colab-badge.svg\" alt=\"Open In Colab\"/></a>"
      ]
    },
    {
      "cell_type": "code",
      "execution_count": null,
      "metadata": {
        "colab": {
          "base_uri": "https://localhost:8080/"
        },
        "id": "d3NS_mwhRUuM",
        "outputId": "2efaa7a0-767d-4939-b11e-e8889d5ca515"
      },
      "outputs": [
        {
          "output_type": "stream",
          "name": "stdout",
          "text": [
            "Inserisci un numero: 2\n",
            "Il numero è positivo\n"
          ]
        }
      ],
      "source": [
        "#Scrivere un programma che chiede all'utente di inserire un numero e stampa \"Il numero è positivo\" se il numero è maggiore di zero, altrimenti stampa \"Il numero è negativo\"\n",
        "numero = int(input(\"Inserisci un numero: \"))\n",
        "if numero > 0:\n",
        "    print(\"Il numero è positivo\")\n",
        "else:\n",
        "    print(\"Il numero è negativo\")"
      ]
    },
    {
      "cell_type": "code",
      "source": [
        "#Scrivere un programma che chiede all'utente di inserire due numeri e stampa \"Il primo numero è maggiore\" se il primo numero è maggiore del secondo, \"Il secondo numero è maggiore\" se il secondo numero è maggiore del primo, altrimenti stampa \"I numeri sono uguali\".\n",
        "numero1 = int(input(\"Inserisci il primo numero: \"))\n",
        "numero2 = int(input(\"Inserisci il secondo numero: \"))\n",
        "if numero1 > numero2:\n",
        "    print(\"Il primo numero è maggiore\")\n",
        "elif numero2 > numero1:\n",
        "    print(\"Il secondo numero è maggiore\")\n",
        "else:\n",
        "    print(\"I numeri sono uguali\")"
      ],
      "metadata": {
        "colab": {
          "base_uri": "https://localhost:8080/"
        },
        "id": "tVbS2_UNRslB",
        "outputId": "2c1223b7-05b4-4bae-adad-64d58b7ceacb"
      },
      "execution_count": null,
      "outputs": [
        {
          "output_type": "stream",
          "name": "stdout",
          "text": [
            "Inserisci il primo numero: 2\n",
            "Inserisci il secondo numero: 3\n",
            "Il secondo numero è maggiore\n"
          ]
        }
      ]
    },
    {
      "cell_type": "code",
      "source": [
        "numero1 = int(input (\"Inserisci il primo numero: \"))\n",
        "numero2 = int(input(\"Inserisci il secondo numero: \"))\n",
        "numero3 = int(input(\"Inserisci il terzo numero: \"))\n",
        "if (numero1 > numero2) and (numero1 > numero3):\n",
        "  print(numero1)\n",
        "elif (numero2 > numero1) and (numero2 > numero3):\n",
        "  print(numero2)\n",
        "else:\n",
        "  print(numero3)"
      ],
      "metadata": {
        "colab": {
          "base_uri": "https://localhost:8080/"
        },
        "id": "lGyn9lp2R92-",
        "outputId": "b6818081-7d98-44b0-8973-1397722b5955"
      },
      "execution_count": null,
      "outputs": [
        {
          "output_type": "stream",
          "name": "stdout",
          "text": [
            "Inserisci il primo numero: 2\n",
            "Inserisci il secondo numero: 3\n",
            "Inserisci il terzo numero: 4\n",
            "4\n"
          ]
        }
      ]
    },
    {
      "cell_type": "code",
      "source": [
        "#Scrivere un programma che chiede all'utente di inserire una stringa e stampa \"La stringa è vuota\" se la stringa è vuota, altrimenti stampa \"La stringa non è vuota\"\n",
        "stringa = input(\"Inserisci una stringa: \")\n",
        "if stringa == \"\":\n",
        "    print(\"La stringa è vuota\")\n",
        "else:\n",
        "    print(\"La stringa non è vuota\")"
      ],
      "metadata": {
        "id": "ufrsB6X0Uwf1",
        "colab": {
          "base_uri": "https://localhost:8080/"
        },
        "outputId": "18f1237d-5c8a-4045-8eb6-f39780755b98"
      },
      "execution_count": 1,
      "outputs": [
        {
          "output_type": "stream",
          "name": "stdout",
          "text": [
            "Inserisci una stringa: ciao\n",
            "La stringa non è vuota\n"
          ]
        }
      ]
    },
    {
      "cell_type": "code",
      "source": [
        "#Scrivere un programma che chiede all'utente di inserire un numero e stampa \"Il numero è pari\" se il numero è pari, altrimenti stampa \"Il numero è dispari\"\n",
        "numero = int(input(\"Inserisci un numero: \"))\n",
        "if numero % 2 == 0:\n",
        "    print(\"Il numero è pari\")\n",
        "else:\n",
        "    print(\"Il numero è dispari\")"
      ],
      "metadata": {
        "colab": {
          "base_uri": "https://localhost:8080/"
        },
        "id": "HubMx_JfyBcV",
        "outputId": "dbf7b79d-ddfc-4af4-cae8-4561b2209928"
      },
      "execution_count": 2,
      "outputs": [
        {
          "output_type": "stream",
          "name": "stdout",
          "text": [
            "Inserisci un numero: 3\n",
            "Il numero è dispari\n"
          ]
        }
      ]
    },
    {
      "cell_type": "code",
      "source": [
        "#Scrivere un programma che chiede all'utente di inserire una lettera e stampa \"La lettera è una vocale\" se la lettera è una vocale (a, e, i, o, u), altrimenti stampa \"La lettera non è una vocale\".\n",
        "lettera = input(\"Inserisci una lettera: \").lower()\n",
        "if lettera in [\"a\" , \"e\", \"i\",\"o\", \"u\"]:\n",
        "  print(\"La lettera è una vocale\")\n",
        "else:\n",
        "  print(\"La lettera non è una vocale\")"
      ],
      "metadata": {
        "colab": {
          "base_uri": "https://localhost:8080/"
        },
        "id": "DFlhH01ayFfv",
        "outputId": "865d5c11-2a88-4e11-e079-ddec0d3c5309"
      },
      "execution_count": 5,
      "outputs": [
        {
          "output_type": "stream",
          "name": "stdout",
          "text": [
            "Inserisci una lettera: a\n",
            "La lettera è una vocale\n"
          ]
        }
      ]
    },
    {
      "cell_type": "code",
      "source": [
        "#Scrivere un programma che chiede all'utente di inserire un numero e stampa \"Il numero è compreso tra 1 e 10\" se il numero è compreso tra 1 e 10, altrimenti stampa \"Il numero non è compreso tra 1 e 10\".\n",
        "numero = int(input(\"Inserisci un numero: \"))\n",
        "if numero >=1 and numero <=10:\n",
        "  print(\"Il numero è compreso tra 1 e 10\")\n",
        "else:\n",
        "  print(\"Il numero non è compreso tra 1 e 10\")"
      ],
      "metadata": {
        "colab": {
          "base_uri": "https://localhost:8080/"
        },
        "id": "50gTeo3GyPAi",
        "outputId": "37c3656e-a508-46a6-98aa-8f8a5a3a8d7c"
      },
      "execution_count": 6,
      "outputs": [
        {
          "output_type": "stream",
          "name": "stdout",
          "text": [
            "Inserisci un numero: 2\n",
            "Il numero è compreso tra 1 e 10\n"
          ]
        }
      ]
    },
    {
      "cell_type": "code",
      "source": [
        "#Scrivere un programma che chieda all'utente di inserire un numero intero. Se il numero è maggiore di 10, stampare \"Il numero è maggiore di 10\". Se il numero è uguale a 10, stampare \"Il numero è uguale a 10\". Se il numero è minore di 10, stampare \"Il numero è minore di 10\".\n",
        "numero = int(input(\"Inserisci un numero: \"))\n",
        "if numero > 10:\n",
        "  print(\"Il numero è maggiore di 10\")\n",
        "elif numero == 10:\n",
        "  print(\"Il numero è uguale a 10\")\n",
        "else:\n",
        "  print(\"Il numero è minore di 10\")"
      ],
      "metadata": {
        "colab": {
          "base_uri": "https://localhost:8080/"
        },
        "id": "cK1FmAZyy-tC",
        "outputId": "91a03651-5525-4d1a-e510-a620466dc773"
      },
      "execution_count": 7,
      "outputs": [
        {
          "output_type": "stream",
          "name": "stdout",
          "text": [
            "Inserisci un numero: 3\n",
            "Il numero è minore di 10\n"
          ]
        }
      ]
    },
    {
      "cell_type": "code",
      "source": [
        "\n",
        "#Scrivere un programma che chieda all'utente di inserire un carattere. Se il carattere è una vocale (a, e, i, o, u), stampare \"Il carattere inserito è una vocale\". Se il carattere è una consonante isAlpha(), stampare \"Il carattere inserito è una consonante\". Se il carattere non è una lettera, stampare \"Il carattere inserito non è una lettera\".\n",
        "caratere = input(\"Inserisci un carattere: \").lower()\n",
        "if caratere in [\"a\" , \"e\", \"i\",\"o\", \"u\"]:\n",
        "  print(\"Il carattere inserito è una vocale\")\n",
        "elif caratere.isalpha():\n",
        "    print(\"Il carattere inserito è una consonante\")\n",
        "else:\n",
        "    print(\"Il carattere inserito non è una lettera\")"
      ],
      "metadata": {
        "colab": {
          "base_uri": "https://localhost:8080/"
        },
        "id": "Tx5ACJrazPTd",
        "outputId": "0662878a-9d65-45c2-9744-8ef97766689c"
      },
      "execution_count": 11,
      "outputs": [
        {
          "output_type": "stream",
          "name": "stdout",
          "text": [
            "Inserisci un carattere: 3\n",
            "Il carattere inserito non è una lettera\n"
          ]
        }
      ]
    }
  ]
}