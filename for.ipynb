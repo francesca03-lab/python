{
  "nbformat": 4,
  "nbformat_minor": 0,
  "metadata": {
    "colab": {
      "provenance": [],
      "authorship_tag": "ABX9TyNePWiX6aB463KiF+jSpwex",
      "include_colab_link": true
    },
    "kernelspec": {
      "name": "python3",
      "display_name": "Python 3"
    },
    "language_info": {
      "name": "python"
    }
  },
  "cells": [
    {
      "cell_type": "markdown",
      "metadata": {
        "id": "view-in-github",
        "colab_type": "text"
      },
      "source": [
        "<a href=\"https://colab.research.google.com/github/francesca03-lab/python/blob/main/for.ipynb\" target=\"_parent\"><img src=\"https://colab.research.google.com/assets/colab-badge.svg\" alt=\"Open In Colab\"/></a>"
      ]
    },
    {
      "cell_type": "code",
      "execution_count": 5,
      "metadata": {
        "colab": {
          "base_uri": "https://localhost:8080/"
        },
        "id": "3mdCu3hP83ev",
        "outputId": "ed01fc53-ff2a-44c2-f2f1-3a5bc83b3f5a"
      },
      "outputs": [
        {
          "output_type": "stream",
          "name": "stdout",
          "text": [
            "1\n",
            "2\n",
            "3\n",
            "4\n",
            "5\n",
            "6\n",
            "7\n",
            "8\n",
            "9\n",
            "10\n"
          ]
        }
      ],
      "source": [
        "#Scrivere un programma che utilizzi un loop for per stampare tutti i numeri da 1 a 10.\n",
        "for i in range (1,11):\n",
        "  print(i)"
      ]
    },
    {
      "cell_type": "code",
      "source": [
        "#Scrivere un programma che utilizzi un loop for per sommare tutti i numeri in una lista.\n",
        "lista = [1,2,3,4]\n",
        "somma = 0\n",
        "for i in lista:\n",
        "  somma +=i\n",
        "print(somma)"
      ],
      "metadata": {
        "colab": {
          "base_uri": "https://localhost:8080/"
        },
        "id": "6mbiQ1Y-9TTA",
        "outputId": "a070d91a-fd8f-4aaf-ba0e-2c70d48675f4"
      },
      "execution_count": 10,
      "outputs": [
        {
          "output_type": "stream",
          "name": "stdout",
          "text": [
            "10\n"
          ]
        }
      ]
    },
    {
      "cell_type": "code",
      "source": [
        "#Scrivere un programma che utilizzi un loop for per stampare tutti i numeri pari da 1 a 20.\n",
        "for i in range(1,21):\n",
        "  if i % 2 == 0:\n",
        "    print(i)"
      ],
      "metadata": {
        "colab": {
          "base_uri": "https://localhost:8080/"
        },
        "id": "rlhYh11J-DQo",
        "outputId": "e9d92b22-b5da-4606-f385-be5269f3ba30"
      },
      "execution_count": 13,
      "outputs": [
        {
          "output_type": "stream",
          "name": "stdout",
          "text": [
            "2\n",
            "4\n",
            "6\n",
            "8\n",
            "10\n",
            "12\n",
            "14\n",
            "16\n",
            "18\n",
            "20\n"
          ]
        }
      ]
    },
    {
      "cell_type": "code",
      "source": [
        "stringa = \"Ciao\"\n",
        "for lettera in stringa:\n",
        "    print(lettera)  # Stampa ogni lettera singolarmente\n"
      ],
      "metadata": {
        "colab": {
          "base_uri": "https://localhost:8080/"
        },
        "id": "V7HBnC6g-ZM9",
        "outputId": "b9edb20e-15de-4f48-98ad-f69707d9a767"
      },
      "execution_count": 18,
      "outputs": [
        {
          "output_type": "stream",
          "name": "stdout",
          "text": [
            "C\n",
            "i\n",
            "a\n",
            "o\n"
          ]
        }
      ]
    },
    {
      "cell_type": "code",
      "source": [
        "#Scrivere un programma che utilizzi un loop for per stampare tutte le chiavi di un dizionario.\n",
        "dizionario = {\"nome\": \"Marco\", \"cognome\": \"Rossi\"}\n",
        "\n",
        "chiavi = dizionario.keys()\n",
        "\n",
        "for i in chiavi:\n",
        "  print(i)"
      ],
      "metadata": {
        "colab": {
          "base_uri": "https://localhost:8080/"
        },
        "id": "0Vb9T0yF--1k",
        "outputId": "457e5a31-cbe8-4edd-c1ba-884f262055e0"
      },
      "execution_count": 19,
      "outputs": [
        {
          "output_type": "stream",
          "name": "stdout",
          "text": [
            "nome\n",
            "cognome\n"
          ]
        }
      ]
    },
    {
      "cell_type": "code",
      "source": [
        "#Scrivere un programma che utilizzi un loop for per stampare tutte le coppie chiave-valore di un dizionario.\n",
        "for chiave,valore in dizionario.items():\n",
        "  print(chiave,valore)"
      ],
      "metadata": {
        "colab": {
          "base_uri": "https://localhost:8080/"
        },
        "id": "ITA-KSRU_UT6",
        "outputId": "98564505-dda2-4ae7-ca51-e57767d7663d"
      },
      "execution_count": 22,
      "outputs": [
        {
          "output_type": "stream",
          "name": "stdout",
          "text": [
            "nome Marco\n",
            "cognome Rossi\n"
          ]
        }
      ]
    },
    {
      "cell_type": "code",
      "source": [
        "#Scrivere un programma che utilizzi un loop for per stampare tutte le lettere di ogni stringa in una lista.\n",
        "lista = [\"Ciao\", \"Mondo\", \"Python\"]\n",
        "\n",
        "for stringa in lista:\n",
        "  for lettera in stringa:\n",
        "    print(lettera)"
      ],
      "metadata": {
        "colab": {
          "base_uri": "https://localhost:8080/"
        },
        "id": "juDow5Ju_sVP",
        "outputId": "44b7c60d-687d-438a-9da0-e71f065e9b92"
      },
      "execution_count": 23,
      "outputs": [
        {
          "output_type": "stream",
          "name": "stdout",
          "text": [
            "C\n",
            "i\n",
            "a\n",
            "o\n",
            "M\n",
            "o\n",
            "n\n",
            "d\n",
            "o\n",
            "P\n",
            "y\n",
            "t\n",
            "h\n",
            "o\n",
            "n\n"
          ]
        }
      ]
    },
    {
      "cell_type": "code",
      "source": [
        "stringa = \"Ciao sono Fra\"\n",
        "lettera_da_contare = \"o\"\n",
        "conteggio = 0\n",
        "\n",
        "# Loop per contare le occorrenze della lettera\n",
        "for lettera in stringa:\n",
        "    if lettera == lettera_da_contare:\n",
        "        conteggio += 1\n",
        "\n",
        "# Stampa il risultato finale\n",
        "print(f\"La lettera '{lettera_da_contare}' appare {conteggio} volte nella stringa.\")\n"
      ],
      "metadata": {
        "colab": {
          "base_uri": "https://localhost:8080/"
        },
        "id": "CKS5wgZGAZkX",
        "outputId": "59fc4377-dc04-44b0-fbae-cc2d4f706eed"
      },
      "execution_count": 29,
      "outputs": [
        {
          "output_type": "stream",
          "name": "stdout",
          "text": [
            "La lettera 'o' appare 3 volte nella stringa.\n"
          ]
        }
      ]
    },
    {
      "cell_type": "code",
      "source": [
        "#Scrivere un programma che utilizzi un loop for per calcolare la media di una lista di numeri.\n",
        "numeri = [1,2,3,4,5,6,7]\n",
        "somma=0\n",
        "for numero in numeri:\n",
        "  somma+=numero\n",
        "  media=somma/len(numeri)\n",
        "print(f\"La media dei numeri è: {media}\")"
      ],
      "metadata": {
        "colab": {
          "base_uri": "https://localhost:8080/"
        },
        "id": "mrVRr6QRBVcZ",
        "outputId": "69ed9866-9371-469d-a1f5-0056cdb12c09"
      },
      "execution_count": 33,
      "outputs": [
        {
          "output_type": "stream",
          "name": "stdout",
          "text": [
            "La media dei numeri è: 4.0\n"
          ]
        }
      ]
    }
  ]
}