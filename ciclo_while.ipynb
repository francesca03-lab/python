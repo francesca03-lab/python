{
  "nbformat": 4,
  "nbformat_minor": 0,
  "metadata": {
    "colab": {
      "provenance": [],
      "authorship_tag": "ABX9TyMeqEluuOtv72mA+ho/UAc0",
      "include_colab_link": true
    },
    "kernelspec": {
      "name": "python3",
      "display_name": "Python 3"
    },
    "language_info": {
      "name": "python"
    }
  },
  "cells": [
    {
      "cell_type": "markdown",
      "metadata": {
        "id": "view-in-github",
        "colab_type": "text"
      },
      "source": [
        "<a href=\"https://colab.research.google.com/github/francesca03-lab/python/blob/main/ciclo_while.ipynb\" target=\"_parent\"><img src=\"https://colab.research.google.com/assets/colab-badge.svg\" alt=\"Open In Colab\"/></a>"
      ]
    },
    {
      "cell_type": "code",
      "execution_count": 2,
      "metadata": {
        "colab": {
          "base_uri": "https://localhost:8080/"
        },
        "id": "6BaYBpHqJpn3",
        "outputId": "a88e51e1-59ba-405c-a24c-4e3e91273875"
      },
      "outputs": [
        {
          "output_type": "stream",
          "name": "stdout",
          "text": [
            "1\n",
            "2\n",
            "3\n",
            "4\n",
            "5\n",
            "6\n",
            "7\n",
            "8\n",
            "9\n",
            "10\n"
          ]
        }
      ],
      "source": [
        "#Stampare i numeri interi da 1 a 10 usando un loop while.\n",
        "numero=1\n",
        "while (numero <=10):\n",
        "  print(numero)\n",
        "  numero+=1\n"
      ]
    },
    {
      "cell_type": "code",
      "source": [
        "n = int(input(\"Inserisci il valore di n: \"))\n",
        "somma = 0\n",
        "numero = 1\n",
        "\n",
        "# Ciclo while per sommare i numeri da 1 a n\n",
        "while numero <= n:\n",
        "    somma += numero  # Aggiungi il numero alla somma\n",
        "    numero += 1  # Incrementa il numero per passare al successivo\n",
        "\n",
        "# Stampa la somma finale\n",
        "print(f\"La somma dei primi {n} numeri interi positivi è: {somma}\")\n"
      ],
      "metadata": {
        "colab": {
          "base_uri": "https://localhost:8080/"
        },
        "id": "sx9naJwrKwSd",
        "outputId": "1006c430-e037-4a00-c894-0ebb59582cce"
      },
      "execution_count": 8,
      "outputs": [
        {
          "output_type": "stream",
          "name": "stdout",
          "text": [
            "Inserisci il valore di n: 5\n",
            "La somma dei primi 5 numeri interi positivi è: 15\n"
          ]
        }
      ]
    },
    {
      "cell_type": "code",
      "source": [
        "#Stampare i numeri pari da 2 a 10 usando un loop while.\n",
        "n=2\n",
        "while(n<=10):\n",
        "  print(n)\n",
        "  n+=2\n",
        "\n"
      ],
      "metadata": {
        "colab": {
          "base_uri": "https://localhost:8080/"
        },
        "id": "-WE1UXHnLeQF",
        "outputId": "56ee60bf-3504-499d-955e-89a29c9cde54"
      },
      "execution_count": 11,
      "outputs": [
        {
          "output_type": "stream",
          "name": "stdout",
          "text": [
            "2\n",
            "4\n",
            "6\n",
            "8\n",
            "10\n"
          ]
        }
      ]
    },
    {
      "cell_type": "code",
      "source": [
        "#Chiedere all'utente di indovinare un numero intero casuale compreso tra 1 e 10. Continuare a chiedere all'utente di indovinare finché non indovina il numero corretto. Usare un loop while.\n",
        "import random\n",
        "\n",
        "numero_casuale = random.randint(1, 10)\n",
        "indovinato = False\n",
        "\n",
        "while not indovinato:\n",
        "  try:\n",
        "    numero_utente = int(input(\"Indovina un numero tra 1 e 10: \"))\n",
        "\n",
        "    if numero_utente == numero_casuale:\n",
        "      print(\"Complimenti! Hai indovinato il numero!\")\n",
        "      indovinato = True\n",
        "    else:\n",
        "      print(\"Numero sbagliato. Riprova!\")\n",
        "  except ValueError:\n",
        "      print(\"Per favore, inserisci un numero intero valido.\")"
      ],
      "metadata": {
        "colab": {
          "base_uri": "https://localhost:8080/"
        },
        "id": "jdXm3JoeP18z",
        "outputId": "4e9e24bc-fe84-493d-d576-262f43222304"
      },
      "execution_count": 21,
      "outputs": [
        {
          "output_type": "stream",
          "name": "stdout",
          "text": [
            "Indovina un numero tra 1 e 10: 1\n",
            "Complimenti! Hai indovinato il numero!\n"
          ]
        }
      ]
    },
    {
      "cell_type": "code",
      "source": [
        "#Chiedere all'utente di inserire una stringa. Stampare la stringa al contrario usando un loop while.\n",
        "str= input(\"Inserisci una stringa: \")\n",
        "lunghezza = len(str)\n",
        "indice = lunghezza - 1\n",
        "while indice >=0:\n",
        "  print(str[indice], end=\"\")\n",
        "  indice -= 1\n",
        "  print()"
      ],
      "metadata": {
        "colab": {
          "base_uri": "https://localhost:8080/"
        },
        "id": "ysprv9q6UKOe",
        "outputId": "2548b72e-ec7c-422d-bc32-88ca66f4d413"
      },
      "execution_count": 25,
      "outputs": [
        {
          "output_type": "stream",
          "name": "stdout",
          "text": [
            "Inserisci una stringa: ciao\n",
            "o\n",
            "a\n",
            "i\n",
            "c\n"
          ]
        }
      ]
    },
    {
      "cell_type": "code",
      "source": [
        "#Stampare i numeri da 10 a 1 usando un loop while.\n",
        "n=10\n",
        "while (n>=1):\n",
        "  print(n)\n",
        "  n-=1"
      ],
      "metadata": {
        "colab": {
          "base_uri": "https://localhost:8080/"
        },
        "id": "5rneayOPUuaV",
        "outputId": "8764b378-420e-4818-b386-2255d2b65721"
      },
      "execution_count": 28,
      "outputs": [
        {
          "output_type": "stream",
          "name": "stdout",
          "text": [
            "10\n",
            "9\n",
            "8\n",
            "7\n",
            "6\n",
            "5\n",
            "4\n",
            "3\n",
            "2\n",
            "1\n"
          ]
        }
      ]
    },
    {
      "cell_type": "code",
      "source": [
        "#Fattoriale con funzione ricorsiva\n",
        "n = int(input(\"Inserisci un numero: \"))\n",
        "def fattoriale(n):\n",
        "    if n == 0 or n == 1:\n",
        "        return 1\n",
        "    else:\n",
        "        print(n)\n",
        "\n",
        "        return n * fattoriale(n - 1)\n",
        "result = fattoriale(n)\n",
        "print(result)\n"
      ],
      "metadata": {
        "colab": {
          "base_uri": "https://localhost:8080/"
        },
        "id": "KZRQMg_LWrn6",
        "outputId": "a44a867c-9f80-4182-b2f4-d4cd648cbe5c"
      },
      "execution_count": 40,
      "outputs": [
        {
          "output_type": "stream",
          "name": "stdout",
          "text": [
            "Inserisci un numero: 5\n",
            "5\n",
            "4\n",
            "3\n",
            "2\n",
            "120\n"
          ]
        }
      ]
    },
    {
      "cell_type": "code",
      "source": [
        "#Calcolare il fattoriale di un numero intero positivo n usando un loop while.\n",
        "n = int(input(\"Inserisci un numero intero positivo: \"))\n",
        "\n",
        "# Inizializzazione del fattoriale\n",
        "fattoriale = 1\n",
        "\n",
        "# Verifica che il numero sia positivo\n",
        "if n < 0:\n",
        "  print(\"Il numero deve essere positivo!\")\n",
        "else:\n",
        "  while n > 1:\n",
        "    fattoriale *= n\n",
        "    n -= 1\n",
        "\n",
        "print(f\"Il fattoriale è: {fattoriale}\")"
      ],
      "metadata": {
        "colab": {
          "base_uri": "https://localhost:8080/"
        },
        "id": "oHh1ias0Xe3V",
        "outputId": "77c892e5-8b91-4e05-c903-fd93450be06e"
      },
      "execution_count": 42,
      "outputs": [
        {
          "output_type": "stream",
          "name": "stdout",
          "text": [
            "Inserisci un numero intero positivo: 5\n",
            "Il fattoriale è: 120\n"
          ]
        }
      ]
    },
    {
      "cell_type": "code",
      "source": [
        "# Chiediamo all'utente di inserire una lista di numeri interi\n",
        "numeri = input(\"Inserisci una lista di numeri interi separati da uno spazio: \")\n",
        "numeri_lista = [int(num) for num in numeri.split()]\n",
        "somma = 0\n",
        "indice = 0\n",
        "while indice < len(numeri_lista):\n",
        "    somma += numeri_lista[indice]\n",
        "    indice += 1\n",
        "print(f\"La somma dei numeri inseriti è: {somma}\")\n"
      ],
      "metadata": {
        "colab": {
          "base_uri": "https://localhost:8080/"
        },
        "id": "J2c3XVl9ZL1C",
        "outputId": "6a234e6a-cb0b-47fd-a073-2164ad9864d1"
      },
      "execution_count": 44,
      "outputs": [
        {
          "output_type": "stream",
          "name": "stdout",
          "text": [
            "Inserisci una lista di numeri interi separati da uno spazio: 1 2 3 4\n",
            "La somma dei numeri inseriti è: 10\n"
          ]
        }
      ]
    },
    {
      "cell_type": "code",
      "source": [
        "#"
      ],
      "metadata": {
        "id": "j8-Nw5CTbm0g"
      },
      "execution_count": null,
      "outputs": []
    }
  ]
}