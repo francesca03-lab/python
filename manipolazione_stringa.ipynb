{
  "nbformat": 4,
  "nbformat_minor": 0,
  "metadata": {
    "colab": {
      "provenance": [],
      "authorship_tag": "ABX9TyM48VZeYlrtWW0RcKQgEzLx",
      "include_colab_link": true
    },
    "kernelspec": {
      "name": "python3",
      "display_name": "Python 3"
    },
    "language_info": {
      "name": "python"
    }
  },
  "cells": [
    {
      "cell_type": "markdown",
      "metadata": {
        "id": "view-in-github",
        "colab_type": "text"
      },
      "source": [
        "<a href=\"https://colab.research.google.com/github/francesca03-lab/python/blob/main/manipolazione_stringa.ipynb\" target=\"_parent\"><img src=\"https://colab.research.google.com/assets/colab-badge.svg\" alt=\"Open In Colab\"/></a>"
      ]
    },
    {
      "cell_type": "code",
      "execution_count": 5,
      "metadata": {
        "colab": {
          "base_uri": "https://localhost:8080/"
        },
        "id": "ci6BtKPm4Vfv",
        "outputId": "42827c2c-fed5-40c3-c801-13f6ca8f451f"
      },
      "outputs": [
        {
          "output_type": "stream",
          "name": "stdout",
          "text": [
            "Francesca Pia Fimiani\n"
          ]
        }
      ],
      "source": [
        "nome = \"Francesca Pia\"\n",
        "cognome = \"Fimiani\"\n",
        "print(nome + \" \" + cognome)"
      ]
    },
    {
      "cell_type": "code",
      "source": [
        "#Utilizzare la formattazione delle stringhe per ottenere \"Il numero è: 42\".\n",
        "numero = 42\n",
        "stringa = f\"Il numero è: {numero}\"\n",
        "print(stringa)"
      ],
      "metadata": {
        "colab": {
          "base_uri": "https://localhost:8080/"
        },
        "id": "uqVImkkZ4xtl",
        "outputId": "0c7ef4cc-c86c-4cc8-d48e-0980ee0ad730"
      },
      "execution_count": 6,
      "outputs": [
        {
          "output_type": "stream",
          "name": "stdout",
          "text": [
            "Il numero è: 42\n"
          ]
        }
      ]
    },
    {
      "cell_type": "code",
      "source": [
        "#Utilizzare la formattazione delle stringhe per ottenere \"Il numero binario di 42 è 0b101010\". Per il binario utilizzare bin(numero)\n",
        "numero1 = int(input(\"Inserisci un numero: \"))\n",
        "print(f\"{bin(numero1)}\")"
      ],
      "metadata": {
        "colab": {
          "base_uri": "https://localhost:8080/"
        },
        "id": "piFl9hCY5-j1",
        "outputId": "268d852f-044f-4241-e72f-8f4003847682"
      },
      "execution_count": 10,
      "outputs": [
        {
          "output_type": "stream",
          "name": "stdout",
          "text": [
            "Inserisci un numero: 42\n",
            "0b101010\n"
          ]
        }
      ]
    },
    {
      "cell_type": "code",
      "source": [
        "#Partendo dalla variabile \"numero\" uguale a 5, utilizzare le f-strings (interpolazione) per ottenere \"Il quadrato di 5 è 25\"\n",
        "num = int(input(\"Inserisci un numero : \"))\n",
        "print(f\"Il quadrato di {num} è {num ** 2}\")"
      ],
      "metadata": {
        "colab": {
          "base_uri": "https://localhost:8080/"
        },
        "id": "OCC90e_l6SRn",
        "outputId": "00a135f5-c77c-43c4-c266-f40a6ad9f3e4"
      },
      "execution_count": 13,
      "outputs": [
        {
          "output_type": "stream",
          "name": "stdout",
          "text": [
            "Inserisci un numero : 5\n",
            "Il quadrato di 5 è 25\n"
          ]
        }
      ]
    },
    {
      "cell_type": "code",
      "source": [
        "import numpy as np\n",
        "num = 5\n",
        "print(f\"Il quadrato di {num} è {np.square(num)}\")"
      ],
      "metadata": {
        "colab": {
          "base_uri": "https://localhost:8080/"
        },
        "id": "ZAeXbNw87cvy",
        "outputId": "24e39b7e-008b-4e16-8b88-b89028a38247"
      },
      "execution_count": 14,
      "outputs": [
        {
          "output_type": "stream",
          "name": "stdout",
          "text": [
            "Il quadrato di 5 è 25\n"
          ]
        }
      ]
    },
    {
      "cell_type": "code",
      "source": [
        "#Partendo da \"nome\" e \"cognome\" utilizzare la formattazione strighe per ottenere \"Il mio nome è {nome} ed il cognome è {cognome}\". Come da esempio dovete fare riferimento al nome delle variabili e non alla posizione usata dentro format.\n",
        "#Partendo da \"nome\" e \"cognome\" utilizzare la formattazione strighe per ottenere \"Il mio nome è {nome} ed il cognome è {cognome}\". Come da esempio dovete fare riferimento al nome delle variabili e non alla posizione usata dentro format.\n",
        "nome = input(\"Inserisci il tuo nome : \")\n",
        "cognome = input(\"Inserisci il tuo cognome : \")\n",
        "print(f\"Ti chiami {nome} {cognome}\")"
      ],
      "metadata": {
        "colab": {
          "base_uri": "https://localhost:8080/"
        },
        "id": "Mmgd_SfL8iS_",
        "outputId": "f90b3eea-1bc4-4a99-a731-0151834453e0"
      },
      "execution_count": 16,
      "outputs": [
        {
          "output_type": "stream",
          "name": "stdout",
          "text": [
            "Inserisci il tuo nome : Francesca Pia\n",
            "Inserisci il tuo cognome : Fimiani\n",
            "Ti chiami Francesca Pia Fimiani\n"
          ]
        }
      ]
    },
    {
      "cell_type": "code",
      "source": [
        "#Facendo riferimento all'esercizio precedente ottenere il seguente risultato modificando i valori nel format(): \"Il mio nome è LUCA ed il cognome è RoKKi\"\n",
        "#Facendo riferimento all'esercizio precedente ottenere il seguente risultato modificando i valori nel format(): \"Il mio nome è LUCA ed il cognome è RoKKi\"\n",
        "nome = \"Francesca\"\n",
        "cognome = \"Fimiani\"\n",
        "cognome2 = cognome.replace(\"Fimiani\", \"RoKKi\")\n",
        "print(f\"Ti chiami {nome} {cognome2}\")"
      ],
      "metadata": {
        "colab": {
          "base_uri": "https://localhost:8080/"
        },
        "id": "FSo0Zt-I9PQy",
        "outputId": "6763a223-fbc1-4a7d-a628-de528e8c052d"
      },
      "execution_count": 20,
      "outputs": [
        {
          "output_type": "stream",
          "name": "stdout",
          "text": [
            "Ti chiami Francesca RoKKi\n"
          ]
        }
      ]
    },
    {
      "cell_type": "code",
      "source": [
        "#Creare una lista vuota assegnarla a una variabilee stamparla.\n",
        "lista = []\n",
        "print(lista)\n"
      ],
      "metadata": {
        "colab": {
          "base_uri": "https://localhost:8080/"
        },
        "id": "1wE1ntK1DqmG",
        "outputId": "d15a60a2-6d2b-4788-fc80-8ec0723f878d"
      },
      "execution_count": 2,
      "outputs": [
        {
          "output_type": "stream",
          "name": "stdout",
          "text": [
            "[]\n"
          ]
        }
      ]
    },
    {
      "cell_type": "code",
      "source": [
        "#Creare una lista di numeri interi da 1 a 5 e assegnarla a una variabile e stamparla.\n",
        "numeri = [1, 2, 3, 4, 5]\n",
        "print(numeri)"
      ],
      "metadata": {
        "colab": {
          "base_uri": "https://localhost:8080/"
        },
        "id": "c8kfH9-9EUp3",
        "outputId": "74b017e4-52e5-4e0f-9eed-2a0dc7b1dd0b"
      },
      "execution_count": 3,
      "outputs": [
        {
          "output_type": "stream",
          "name": "stdout",
          "text": [
            "[1, 2, 3, 4, 5]\n"
          ]
        }
      ]
    },
    {
      "cell_type": "code",
      "source": [
        "#Accedere all'elemento con indice 2 della lista precedente.\n",
        "print(numeri[2])"
      ],
      "metadata": {
        "colab": {
          "base_uri": "https://localhost:8080/"
        },
        "id": "SnX1nZdmFOk7",
        "outputId": "4b339545-4789-49f4-eb50-1313ff19c6fb"
      },
      "execution_count": 4,
      "outputs": [
        {
          "output_type": "stream",
          "name": "stdout",
          "text": [
            "3\n"
          ]
        }
      ]
    },
    {
      "cell_type": "code",
      "source": [
        "#Aggiungere un nuovo elemento \"6\" alla lista precedente.\n",
        "numeri.append(6)\n",
        "print(numeri)"
      ],
      "metadata": {
        "colab": {
          "base_uri": "https://localhost:8080/"
        },
        "id": "Yx9LxyEIF-px",
        "outputId": "367845f9-14b5-4abd-d121-a967767d936c"
      },
      "execution_count": 5,
      "outputs": [
        {
          "output_type": "stream",
          "name": "stdout",
          "text": [
            "[1, 2, 3, 4, 5, 6]\n"
          ]
        }
      ]
    },
    {
      "cell_type": "code",
      "source": [
        "#Rimuovere l'elemento con indice 3 dalla lista precedente.\n",
        "numeri.remove(4)\n",
        "print(numeri)"
      ],
      "metadata": {
        "colab": {
          "base_uri": "https://localhost:8080/"
        },
        "id": "lNfjLdT8GQ7Y",
        "outputId": "e13ae0fe-c69f-47b4-fe5a-4bcfa5c7e273"
      },
      "execution_count": 6,
      "outputs": [
        {
          "output_type": "stream",
          "name": "stdout",
          "text": [
            "[1, 2, 3, 5, 6]\n"
          ]
        }
      ]
    },
    {
      "cell_type": "code",
      "source": [
        "#Creare una nuova lista che contenga solo i primi tre elementi della lista precedente.\n",
        "lista_nuova = numeri[2:5] # Assuming lista_precedente is defined elsewhere\n",
        "print(lista_nuova)"
      ],
      "metadata": {
        "colab": {
          "base_uri": "https://localhost:8080/"
        },
        "id": "h3ShWWcqHx3d",
        "outputId": "4264087f-4074-42e8-c5ac-1096110f6c73"
      },
      "execution_count": 9,
      "outputs": [
        {
          "output_type": "stream",
          "name": "stdout",
          "text": [
            "[3, 5, 6]\n"
          ]
        }
      ]
    },
    {
      "cell_type": "code",
      "source": [
        "#Creare una nuova lista che contenga gli elementi con indici dispari della lista precedente\n",
        "lista = [1, 2, 3, 4, 5, 6, 7, 8, 9, 10]\n",
        "lista_nuova = lista[1::2]\n",
        "print(lista_nuova)"
      ],
      "metadata": {
        "colab": {
          "base_uri": "https://localhost:8080/"
        },
        "id": "R6M6kaGmIWKc",
        "outputId": "87ad8fce-ba5e-4774-d728-3f5010200508"
      },
      "execution_count": 12,
      "outputs": [
        {
          "output_type": "stream",
          "name": "stdout",
          "text": [
            "[2, 4, 6, 8, 10]\n"
          ]
        }
      ]
    },
    {
      "cell_type": "code",
      "source": [
        "#Contare quante volte l'elemento \"2\" appare nella lista precedente.\n",
        "lista = [1, 2, 3, 2, 4, 2, 5, 2, 7, 8, 2, 1, 2,]\n",
        "lista_nuova = lista.count(2)\n",
        "print(lista_nuova)"
      ],
      "metadata": {
        "colab": {
          "base_uri": "https://localhost:8080/"
        },
        "id": "q9igggrNI_04",
        "outputId": "8573eb17-b682-4d25-b95a-c3b690366e5d"
      },
      "execution_count": 13,
      "outputs": [
        {
          "output_type": "stream",
          "name": "stdout",
          "text": [
            "6\n"
          ]
        }
      ]
    },
    {
      "cell_type": "code",
      "source": [
        "#Creare un dizionario con le seguenti chiavi e valori: \"nome\" : \"Mario\", \"cognome\" : \"Rossi\", \"età\" : 30.\n",
        "dizionario = {\n",
        "    \"nome\": \"Mario\",\n",
        "    \"cognome\": \"Rossi\",\n",
        "    \"età\": 30\n",
        "}\n",
        "\n",
        "print(dizionario)\n"
      ],
      "metadata": {
        "colab": {
          "base_uri": "https://localhost:8080/"
        },
        "id": "zrQ0vNsIMSgQ",
        "outputId": "4274484c-0708-4d18-afc0-4485ccb23e43"
      },
      "execution_count": 14,
      "outputs": [
        {
          "output_type": "stream",
          "name": "stdout",
          "text": [
            "{'nome': 'Mario', 'cognome': 'Rossi', 'età': 30}\n"
          ]
        }
      ]
    },
    {
      "cell_type": "code",
      "source": [
        "#Esercizio 4 Aggiungere un nuovo elemento \"email\" con valore \"mario.rossi@email.com\" al dizionario precedente.\n",
        "dizionario[\"email\"] = \"mario.rossi@email.com\"\n",
        "print(dizionario)"
      ],
      "metadata": {
        "colab": {
          "base_uri": "https://localhost:8080/"
        },
        "id": "zGoYyVgmOJan",
        "outputId": "71e92ca7-167d-4bfa-de72-59dee35fcbbb"
      },
      "execution_count": 17,
      "outputs": [
        {
          "output_type": "stream",
          "name": "stdout",
          "text": [
            "{'nome': 'Mario', 'cognome': 'Rossi', 'età': 30, 'email': 'mario.rossi@email.com'}\n"
          ]
        }
      ]
    },
    {
      "cell_type": "code",
      "source": [
        "#Rimuovere l'elemento con chiave \"cognome\" dal dizionario precedente.\n",
        "del dizionario [\"cognome\"]\n",
        "print(dizionario)"
      ],
      "metadata": {
        "colab": {
          "base_uri": "https://localhost:8080/"
        },
        "id": "j-NV2TqXO5wE",
        "outputId": "2840e3f3-dc0a-41f9-ceba-3aa53cf3b0c6"
      },
      "execution_count": 18,
      "outputs": [
        {
          "output_type": "stream",
          "name": "stdout",
          "text": [
            "{'nome': 'Mario', 'età': 30, 'email': 'mario.rossi@email.com'}\n"
          ]
        }
      ]
    },
    {
      "cell_type": "code",
      "source": [
        "#Creare una nuova lista che contenga solo le chiavi del dizionario precedente.\n",
        "dizionario = {\n",
        "    \"nome\": \"Mario\",\n",
        "    \"cognome\": \"Rossi\",\n",
        "    \"età\": 30\n",
        "}\n",
        "lista_chiavi = list(dizionario.keys())\n",
        "print(lista_chiavi)"
      ],
      "metadata": {
        "colab": {
          "base_uri": "https://localhost:8080/"
        },
        "id": "2YOEU57rPCEd",
        "outputId": "874c68f9-0030-43d4-8369-c7dc0c381d43"
      },
      "execution_count": 19,
      "outputs": [
        {
          "output_type": "stream",
          "name": "stdout",
          "text": [
            "['nome', 'cognome', 'età']\n"
          ]
        }
      ]
    },
    {
      "cell_type": "code",
      "source": [
        "#Creare una nuova lista che contenga solo i valori del dizionario preceden\n",
        "dizionario = {\n",
        "    \"nome\": \"Mario\",\n",
        "    \"cognome\": \"Rossi\",\n",
        "    \"età\": 30\n",
        "}\n",
        "lista_valori = list(dizionario.values())\n",
        "print(lista_valori)"
      ],
      "metadata": {
        "colab": {
          "base_uri": "https://localhost:8080/"
        },
        "id": "iZsD-ZKYPppO",
        "outputId": "b9d30f58-ffa3-430b-f74e-81564af610ed"
      },
      "execution_count": 20,
      "outputs": [
        {
          "output_type": "stream",
          "name": "stdout",
          "text": [
            "['Mario', 'Rossi', 30]\n"
          ]
        }
      ]
    }
  ]
}