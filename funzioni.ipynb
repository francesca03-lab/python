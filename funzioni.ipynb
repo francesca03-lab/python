{
  "nbformat": 4,
  "nbformat_minor": 0,
  "metadata": {
    "colab": {
      "provenance": [],
      "authorship_tag": "ABX9TyMUyJZdK0Mn175F7TLtp6fb",
      "include_colab_link": true
    },
    "kernelspec": {
      "name": "python3",
      "display_name": "Python 3"
    },
    "language_info": {
      "name": "python"
    }
  },
  "cells": [
    {
      "cell_type": "markdown",
      "metadata": {
        "id": "view-in-github",
        "colab_type": "text"
      },
      "source": [
        "<a href=\"https://colab.research.google.com/github/francesca03-lab/python/blob/main/funzioni.ipynb\" target=\"_parent\"><img src=\"https://colab.research.google.com/assets/colab-badge.svg\" alt=\"Open In Colab\"/></a>"
      ]
    },
    {
      "cell_type": "code",
      "execution_count": 1,
      "metadata": {
        "colab": {
          "base_uri": "https://localhost:8080/"
        },
        "id": "9f_alPI4wwSy",
        "outputId": "13c98b04-b6e1-4c43-c402-a9b5cd826cd3"
      },
      "outputs": [
        {
          "output_type": "stream",
          "name": "stdout",
          "text": [
            "La somma degli elementi è: 15\n"
          ]
        }
      ],
      "source": [
        "def somma(lista):\n",
        "    totale = 0  # Inizializza la somma a 0\n",
        "    for numero in lista:\n",
        "        totale += numero  # Aggiunge ogni numero della lista al totale\n",
        "    return totale  # Restituisce il risultato\n",
        "\n",
        "# Lista di numeri di esempio\n",
        "numeri = [1, 2, 3, 4, 5]\n",
        "\n",
        "# Chiamata alla funzione e stampa del risultato\n",
        "result = somma(numeri)\n",
        "print(f\"La somma degli elementi è: {result}\")\n"
      ]
    },
    {
      "cell_type": "code",
      "source": [
        "#Scrivi una funzione che prende una stringa e restituisce la stringa invertita.\n",
        "stringa = \"ciao\"\n",
        "stringa_invertita = stringa[::-1]\n",
        "print(stringa_invertita)"
      ],
      "metadata": {
        "colab": {
          "base_uri": "https://localhost:8080/"
        },
        "id": "t2hctNP5xV-Z",
        "outputId": "311c1c08-5cac-4aa0-9e6f-1e6817680053"
      },
      "execution_count": 2,
      "outputs": [
        {
          "output_type": "stream",
          "name": "stdout",
          "text": [
            "oaic\n"
          ]
        }
      ]
    },
    {
      "cell_type": "code",
      "source": [
        "def filtra_parole(lista, lettera):\n",
        "    parole_filtrate = []  # Lista vuota per le parole che iniziano con la lettera specificata\n",
        "    for parola in lista:\n",
        "        if parola.startswith(lettera):  # Controlla se la parola inizia con la lettera specificata\n",
        "            parole_filtrate.append(parola)  # Aggiunge la parola alla lista risultante\n",
        "    return parole_filtrate  # Restituisce la lista filtrata\n",
        "\n",
        "# Lista di parole di esempio\n",
        "lista_parole = [\"ciao\", \"due\", \"tre\", \"cane\", \"dado\", \"casa\"]\n",
        "\n",
        "# Lettera specificata dall'utente\n",
        "lettera_iniziale = input(\"Inserisci la lettera iniziale da filtrare: \").lower()\n",
        "\n",
        "# Chiamata alla funzione\n",
        "parole_risultato = filtra_parole(lista_parole, lettera_iniziale)\n",
        "\n",
        "# Stampa del risultato\n",
        "print(f\"Parole che iniziano con '{lettera_iniziale}': {parole_risultato}\")\n",
        "\n"
      ],
      "metadata": {
        "colab": {
          "base_uri": "https://localhost:8080/"
        },
        "id": "GSzQg_trxaga",
        "outputId": "bd7e08c8-c0b9-4d24-ce5e-0bfecbf9b8c6"
      },
      "execution_count": 4,
      "outputs": [
        {
          "output_type": "stream",
          "name": "stdout",
          "text": [
            "Inserisci la lettera iniziale da filtrare: c\n",
            "Parole che iniziano con 'c': ['ciao', 'cane', 'casa']\n"
          ]
        }
      ]
    },
    {
      "cell_type": "code",
      "source": [
        "def numeri_pari(lista):\n",
        "    numeri_pari = []  # Inizializziamo una lista vuota per i numeri pari\n",
        "    for numero in lista:  # Iteriamo ogni numero nella lista\n",
        "        if numero % 2 == 0:  # Controlliamo se il numero è pari\n",
        "            numeri_pari.append(numero)  # Se è pari, lo aggiungiamo alla lista\n",
        "    return numeri_pari  # Restituiamo la lista dei numeri pari\n",
        "\n",
        "# Lista di numeri di esempio\n",
        "numeri = [1, 2, 3, 4, 5, 6, 7, 8]\n",
        "\n",
        "# Chiamata alla funzione\n",
        "pari = numeri_pari(numeri)\n",
        "\n",
        "# Stampa del risultato\n",
        "print(\"Numeri pari:\", pari)\n"
      ],
      "metadata": {
        "colab": {
          "base_uri": "https://localhost:8080/"
        },
        "id": "CcZiyZtryRN3",
        "outputId": "e7b18910-cddd-4441-c271-7a54ba2e5736"
      },
      "execution_count": 10,
      "outputs": [
        {
          "output_type": "stream",
          "name": "stdout",
          "text": [
            "Numeri pari: [2, 4, 6, 8]\n"
          ]
        }
      ]
    },
    {
      "cell_type": "code",
      "source": [
        "#Scrivi una funzione che prende una lista di parole e restituisce una lista contenente la lunghezza di ciascuna parola.\n",
        "def lunghezza_parole(lista_parole):\n",
        "  risultato = []\n",
        "  for parola in lista_parole:\n",
        "    risultato.append(len(parola))\n",
        "  return risultato\n",
        "lista = [\"ciao\", \"come\", \"stai\", \"oggi\"]\n",
        "lunghezza = lunghezza_parole(lista)\n",
        "print(lunghezza)"
      ],
      "metadata": {
        "colab": {
          "base_uri": "https://localhost:8080/"
        },
        "id": "pWLVcVbv2P1z",
        "outputId": "f6e154d3-4cf2-429c-98dd-3169bc5129ee"
      },
      "execution_count": 12,
      "outputs": [
        {
          "output_type": "stream",
          "name": "stdout",
          "text": [
            "[4, 4, 4, 4]\n"
          ]
        }
      ]
    },
    {
      "cell_type": "code",
      "source": [
        "#Scrivi una funzione che prende una lista di numeri e restituisce il valore massimo.\n",
        "def valore_max(lista_numeri):\n",
        "  massimo = lista_numeri[0]\n",
        "  for numero in lista:\n",
        "    if numero > massimo:\n",
        "      massimo=numero\n",
        "  return massimo\n",
        "lista = [1,2,3,4,5,6,7]\n",
        "max= valore_max(lista)\n",
        "print(max)"
      ],
      "metadata": {
        "colab": {
          "base_uri": "https://localhost:8080/"
        },
        "id": "ZIn7Hrkm2k0i",
        "outputId": "6984c5cc-a87e-4efb-fe85-cfddcde46673"
      },
      "execution_count": 14,
      "outputs": [
        {
          "output_type": "stream",
          "name": "stdout",
          "text": [
            "7\n"
          ]
        }
      ]
    },
    {
      "cell_type": "code",
      "source": [
        "def valori_max(lista_num):\n",
        "    if len(lista_num) < 2:  # Verifica che la lista abbia almeno due elementi\n",
        "        return \"La lista deve contenere almeno 2 numeri.\"\n",
        "\n",
        "    massimo1 = lista_num[0]  # Inizializza massimo1 con il primo numero della lista\n",
        "    massimo2 = lista_num[1]  # Inizializza massimo2 con il secondo numero della lista\n",
        "\n",
        "    # Itera sulla lista a partire dal terzo elemento\n",
        "    for numero in lista_num[2:]:\n",
        "        if numero > massimo1:  # Se il numero è maggiore di massimo1\n",
        "            massimo2 = massimo1  # Il precedente massimo1 diventa massimo2\n",
        "            massimo1 = numero  # Il numero corrente diventa massimo1\n",
        "        elif numero > massimo2:  # Se il numero è maggiore di massimo2\n",
        "            massimo2 = numero  # Aggiorna massimo2\n",
        "\n",
        "    return massimo1, massimo2  # Restituisce i due numeri massimi\n",
        "\n",
        "# Lista di esempio\n",
        "lista = [1, 2, 3, 4, 5, 6]\n",
        "\n",
        "# Chiamata alla funzione\n",
        "max_valori = valori_max(lista)\n",
        "\n",
        "# Stampa dei risultati\n",
        "print(\"I due numeri massimi sono:\", max_valori)\n",
        "\n"
      ],
      "metadata": {
        "colab": {
          "base_uri": "https://localhost:8080/"
        },
        "id": "fpAWxO-73LhV",
        "outputId": "b8a542ca-1f95-4105-8812-ea8cd33457f5"
      },
      "execution_count": 19,
      "outputs": [
        {
          "output_type": "stream",
          "name": "stdout",
          "text": [
            "I due numeri massimi sono: (6, 5)\n"
          ]
        }
      ]
    },
    {
      "cell_type": "code",
      "source": [
        "def lunga(lista):\n",
        "    parola_piu_lunga = lista[0]\n",
        "    for parola in lista:\n",
        "        if len(parola) > len(parola_piu_lunga):\n",
        "            parola_piu_lunga = parola\n",
        "    return parola_piu_lunga\n",
        "lista = [\"ciao\", \"Francesca\", \"salve\"]\n",
        "result = lunga(lista)\n",
        "print(\"La parola più lunga è:\", result)\n"
      ],
      "metadata": {
        "colab": {
          "base_uri": "https://localhost:8080/"
        },
        "id": "KiATkVP25W0E",
        "outputId": "b48b8bbb-b0b8-4608-f0d4-211e995a5be6"
      },
      "execution_count": 22,
      "outputs": [
        {
          "output_type": "stream",
          "name": "stdout",
          "text": [
            "La parola più lunga è: Francesca\n"
          ]
        }
      ]
    },
    {
      "cell_type": "code",
      "source": [
        "#Scrivi una funzione che prende una lista di numeri e restituisce la media dei numeri.\n",
        "def media (lista):\n",
        "  somma=0\n",
        "  for numero in lista:\n",
        "      somma+=numero\n",
        "  media=somma/len(lista)\n",
        "  return (media)\n",
        "lista=[1,2,3,4,5]\n",
        "result = media(lista)\n",
        "print(result)"
      ],
      "metadata": {
        "colab": {
          "base_uri": "https://localhost:8080/"
        },
        "id": "oDFpDeuj7L5k",
        "outputId": "810ce369-838d-4adc-ac41-cc21a2a10ddd"
      },
      "execution_count": 30,
      "outputs": [
        {
          "output_type": "stream",
          "name": "stdout",
          "text": [
            "3.0\n"
          ]
        }
      ]
    },
    {
      "cell_type": "code",
      "source": [
        "def palindrome(lista):\n",
        "    lista_palindrome = []  # Lista per conservare le parole palindrome\n",
        "    for parola in lista:\n",
        "        if parola == parola[::-1]:  # Controlla se la parola è uguale a se stessa al contrario\n",
        "            lista_palindrome.append(parola)  # Aggiungi la parola alla lista delle parole palindrome\n",
        "    return lista_palindrome\n",
        "lista = [\"anna\", \"radar\", \"scuola\"]\n",
        "\n",
        "# Chiamata alla funzione\n",
        "palindroma = palindrome(lista)\n",
        "\n",
        "# Stampa del risultato\n",
        "print(palindroma)\n"
      ],
      "metadata": {
        "colab": {
          "base_uri": "https://localhost:8080/"
        },
        "id": "TyXFalQOCsm2",
        "outputId": "2e72f1e4-fd8c-4ee1-b20c-7a09b7ee0c21"
      },
      "execution_count": 35,
      "outputs": [
        {
          "output_type": "stream",
          "name": "stdout",
          "text": [
            "['anna', 'radar']\n"
          ]
        }
      ]
    }
  ]
}