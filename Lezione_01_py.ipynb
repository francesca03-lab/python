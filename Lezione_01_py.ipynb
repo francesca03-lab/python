{
  "nbformat": 4,
  "nbformat_minor": 0,
  "metadata": {
    "colab": {
      "provenance": [],
      "authorship_tag": "ABX9TyPIhNewdE43xshfYKF9A50n",
      "include_colab_link": true
    },
    "kernelspec": {
      "name": "python3",
      "display_name": "Python 3"
    },
    "language_info": {
      "name": "python"
    }
  },
  "cells": [
    {
      "cell_type": "markdown",
      "metadata": {
        "id": "view-in-github",
        "colab_type": "text"
      },
      "source": [
        "<a href=\"https://colab.research.google.com/github/francesca03-lab/python/blob/main/Lezione_01_py.ipynb\" target=\"_parent\"><img src=\"https://colab.research.google.com/assets/colab-badge.svg\" alt=\"Open In Colab\"/></a>"
      ]
    },
    {
      "cell_type": "code",
      "source": [
        "message = \"Hello, world\"\n",
        "\n",
        "print(message)"
      ],
      "metadata": {
        "colab": {
          "base_uri": "https://localhost:8080/"
        },
        "id": "eYnZALU8hUs5",
        "outputId": "fbbf64aa-7e4e-4fe0-9ee6-a04312de1dcb"
      },
      "execution_count": 36,
      "outputs": [
        {
          "output_type": "stream",
          "name": "stdout",
          "text": [
            "Hello, world\n"
          ]
        }
      ]
    },
    {
      "cell_type": "code",
      "source": [
        "result= 1.7 + 1\n",
        "print(result)"
      ],
      "metadata": {
        "colab": {
          "base_uri": "https://localhost:8080/"
        },
        "id": "taq6tvLB4X0E",
        "outputId": "9b1280ab-f145-42d5-9d13-276795fa54b3"
      },
      "execution_count": 38,
      "outputs": [
        {
          "output_type": "stream",
          "name": "stdout",
          "text": [
            "2.7\n"
          ]
        }
      ]
    },
    {
      "cell_type": "code",
      "source": [
        "ore = 12\n",
        "minuti = 60"
      ],
      "metadata": {
        "id": "3Sawcame4cIB"
      },
      "execution_count": 43,
      "outputs": []
    },
    {
      "cell_type": "code",
      "source": [
        "print(\"Numero di minuti totale\", ore * minuti)"
      ],
      "metadata": {
        "colab": {
          "base_uri": "https://localhost:8080/"
        },
        "id": "RI7sDmQl6PMt",
        "outputId": "a5c28ec1-09ea-47dc-872d-00d851bcfb3c"
      },
      "execution_count": 45,
      "outputs": [
        {
          "output_type": "stream",
          "name": "stdout",
          "text": [
            "Numero di minuti totale 720\n"
          ]
        }
      ]
    },
    {
      "cell_type": "code",
      "source": [
        "def UnaRigaVuota (arg):\n",
        "  print()\n",
        ""
      ],
      "metadata": {
        "id": "c2v2soQm8xiV"
      },
      "execution_count": 46,
      "outputs": []
    },
    {
      "cell_type": "code",
      "source": [
        "print (\"Prima Riga\")\n",
        "def UnaRigaVuota():\n",
        "  print(\"Seconda riga\")\n",
        "UnaRigaVuota()"
      ],
      "metadata": {
        "colab": {
          "base_uri": "https://localhost:8080/"
        },
        "id": "fyCevf69H80y",
        "outputId": "7f8479bc-c95a-4b60-faee-5701a6486bfc"
      },
      "execution_count": 48,
      "outputs": [
        {
          "output_type": "stream",
          "name": "stdout",
          "text": [
            "Prima Riga\n",
            "Seconda riga\n"
          ]
        }
      ]
    },
    {
      "cell_type": "code",
      "source": [
        "#Esercizio 1\n",
        "#Dichiarare una variabile \"nome\" e assegnargli il tuo nome. Mandare a schermo.\n",
        "nome = \"Francesca\"\n",
        "print(nome)"
      ],
      "metadata": {
        "colab": {
          "base_uri": "https://localhost:8080/"
        },
        "id": "nAzXdlqPb4h_",
        "outputId": "d70d1cb5-45ec-4cf7-9073-e5c01da2186b"
      },
      "execution_count": 50,
      "outputs": [
        {
          "output_type": "stream",
          "name": "stdout",
          "text": [
            "Francesca\n"
          ]
        }
      ]
    },
    {
      "cell_type": "code",
      "source": [
        "#Esercizio 2\n",
        "#Dichiarare una variabile \"eta\" e assegnargli la tua età. Mandare a schermo.\n",
        "età = 22\n",
        "print(età)"
      ],
      "metadata": {
        "colab": {
          "base_uri": "https://localhost:8080/"
        },
        "id": "ak_svannb-tw",
        "outputId": "49f5d6f6-13f9-48c7-ef70-cbe166a7e0c8"
      },
      "execution_count": 52,
      "outputs": [
        {
          "output_type": "stream",
          "name": "stdout",
          "text": [
            "22\n"
          ]
        }
      ]
    },
    {
      "cell_type": "code",
      "source": [
        "#Esercizio 3\n",
        "#Dichiarare una variabile \"pi\" e assegnargli il valore di pi greco (3,14159). Mandare a schermo\n",
        "pi = 3.14159\n",
        "print(pi)\n"
      ],
      "metadata": {
        "colab": {
          "base_uri": "https://localhost:8080/"
        },
        "id": "6abxYHbGcWPG",
        "outputId": "1074673b-33bb-4bb0-ab83-783cdaf451f9"
      },
      "execution_count": 54,
      "outputs": [
        {
          "output_type": "stream",
          "name": "stdout",
          "text": [
            "3.14159\n"
          ]
        }
      ]
    },
    {
      "cell_type": "code",
      "source": [
        "import math\n",
        "print(math.pi)"
      ],
      "metadata": {
        "colab": {
          "base_uri": "https://localhost:8080/"
        },
        "id": "FOhnctkxeQlc",
        "outputId": "91e0ed40-528b-4dde-f464-0fb16d54a461"
      },
      "execution_count": 55,
      "outputs": [
        {
          "output_type": "stream",
          "name": "stdout",
          "text": [
            "3.141592653589793\n"
          ]
        }
      ]
    },
    {
      "cell_type": "code",
      "source": [
        "#Esercizio 4\n",
        "#Creare una variabile \"lunghezza\" e assegnargli un valore, quindi riassegnare la variabile a 15. Mandare a schermo.\n",
        "lunghezza = 10\n",
        "print(lunghezza)\n",
        "lunghezza = 15\n",
        "print(lunghezza)\n"
      ],
      "metadata": {
        "colab": {
          "base_uri": "https://localhost:8080/"
        },
        "id": "MMFZwbBmfn-6",
        "outputId": "5fd3748f-879c-43fa-f4aa-da263418e06c"
      },
      "execution_count": 57,
      "outputs": [
        {
          "output_type": "stream",
          "name": "stdout",
          "text": [
            "10\n",
            "15\n"
          ]
        }
      ]
    },
    {
      "cell_type": "code",
      "source": [
        "#Creare una variabile \"nome_completo\" e assegnargli una stringa contenente il tuo nome e cognome. Mandare a schermo\n",
        "nome_completo = \"Francesca Pia Fimiani\"\n",
        "print(nome_completo)"
      ],
      "metadata": {
        "colab": {
          "base_uri": "https://localhost:8080/"
        },
        "id": "xtUkYTCdgMVa",
        "outputId": "3e76963e-2cae-40ec-be61-60d45a9bca85"
      },
      "execution_count": 58,
      "outputs": [
        {
          "output_type": "stream",
          "name": "stdout",
          "text": [
            "Francesca Pia Fimiani\n"
          ]
        }
      ]
    },
    {
      "cell_type": "code",
      "source": [
        "#Creare una variabile \"eta_futura\" e assegnargli il valore dell'età che avrai tra 10 anni (utilizzando la variabile età già esistente). Mansare a schermo.\n",
        "eta = 22\n",
        "eta_futura = 10\n",
        "print (eta + eta_futura)"
      ],
      "metadata": {
        "colab": {
          "base_uri": "https://localhost:8080/"
        },
        "id": "cAeJuX0xg2LC",
        "outputId": "32cc8957-1160-4bd6-f234-0d74f84a495e"
      },
      "execution_count": 61,
      "outputs": [
        {
          "output_type": "stream",
          "name": "stdout",
          "text": [
            "32\n"
          ]
        }
      ]
    },
    {
      "cell_type": "code",
      "source": [
        "#Creare delle variabili \"nome\", \"cognome\" ed \"anno_di_nascita\" ed assegnargli i valori. Mandare a schermo in un unico print. Sovrascrivere tutte le variabili e rimandare a schermo una seconda volta.\n",
        "nome = \"Francesca\"\n",
        "cognome = \"Fimiani\"\n",
        "anno_nascita = \"2003\"\n",
        "print(nome,  cognome,  anno_nascita)"
      ],
      "metadata": {
        "colab": {
          "base_uri": "https://localhost:8080/"
        },
        "id": "aGSKQ5Uwh6Tq",
        "outputId": "9ef28a0a-0c03-4e22-c699-4de2b67a2691"
      },
      "execution_count": 65,
      "outputs": [
        {
          "output_type": "stream",
          "name": "stdout",
          "text": [
            "Francesca Fimiani 2003\n"
          ]
        }
      ]
    },
    {
      "cell_type": "code",
      "source": [
        "#Creare una variabile eta_attuale e assegnargli il valore dell'età che hai attualmente, calcolandola in base all'anno corrente. Mandare a schermo eta_attuale\n",
        "anno = 2025\n",
        "anno_nascita= 2003\n",
        "print(anno - anno_nascita)\n"
      ],
      "metadata": {
        "colab": {
          "base_uri": "https://localhost:8080/"
        },
        "id": "3L5_mueCi_UK",
        "outputId": "3b76e597-d213-4fd1-ca85-705c484d3169"
      },
      "execution_count": 66,
      "outputs": [
        {
          "output_type": "stream",
          "name": "stdout",
          "text": [
            "22\n"
          ]
        }
      ]
    },
    {
      "cell_type": "code",
      "source": [
        "!echo \"# python\" >> README.md\n",
        "!git init\n",
        "!git add README.md\n",
        "!git commit -m \"first commit\"\n",
        "!git branch -M main\n",
        "!git remote add origin https://github.com/francesca03-lab/python.git\n",
        "!git push -u origin main"
      ],
      "metadata": {
        "colab": {
          "base_uri": "https://localhost:8080/"
        },
        "id": "O8_s2z28nQkO",
        "outputId": "70f16979-880b-46e3-e963-eec76f34b04d"
      },
      "execution_count": 67,
      "outputs": [
        {
          "output_type": "stream",
          "name": "stdout",
          "text": [
            "Reinitialized existing Git repository in /content/.git/\n",
            "[main 4e53f44] first commit\n",
            " 1 file changed, 1 insertion(+)\n",
            "error: remote origin already exists.\n",
            "fatal: could not read Username for 'https://github.com': No such device or address\n"
          ]
        }
      ]
    },
    {
      "cell_type": "code",
      "source": [
        "!git remote add origin https://github.com/francesca03-lab/python.git\n",
        "!git branch -M main\n",
        "!git push -u origin main"
      ],
      "metadata": {
        "colab": {
          "base_uri": "https://localhost:8080/"
        },
        "id": "Is34DaRzqGO7",
        "outputId": "192400e5-5fe4-4f92-8bd5-a7b11b9321dc"
      },
      "execution_count": 70,
      "outputs": [
        {
          "output_type": "stream",
          "name": "stdout",
          "text": [
            "error: remote origin already exists.\n",
            "fatal: could not read Username for 'https://github.com': No such device or address\n"
          ]
        }
      ]
    },
    {
      "cell_type": "code",
      "source": [
        "#Esercizio 1\n",
        "#Dichiarare una variabile \"numero_intero\" e assegnargli un valore intero. Mandare a schermo il tipo della variabile per conferma.\n",
        "numero_intero = 10\n",
        "type(numero_intero)\n"
      ],
      "metadata": {
        "colab": {
          "base_uri": "https://localhost:8080/"
        },
        "id": "6NJ9wsGGx7o7",
        "outputId": "8a4aa01e-d69a-4564-f3f9-62ff7aa7df28"
      },
      "execution_count": 71,
      "outputs": [
        {
          "output_type": "execute_result",
          "data": {
            "text/plain": [
              "int"
            ]
          },
          "metadata": {},
          "execution_count": 71
        }
      ]
    },
    {
      "cell_type": "code",
      "source": [
        "#Esercizio 2\n",
        "#Dichiarare una variabile \"numero_decimale\" e assegnargli un valore float. Mandare a schermo il tipo della variabile per conferma.\n",
        "numero_decimale = 10.5\n",
        "type(numero_decimale)\n"
      ],
      "metadata": {
        "colab": {
          "base_uri": "https://localhost:8080/"
        },
        "id": "C1jtknZZzCSV",
        "outputId": "ce22ce33-3475-4216-a684-99f1b1039d99"
      },
      "execution_count": 72,
      "outputs": [
        {
          "output_type": "execute_result",
          "data": {
            "text/plain": [
              "float"
            ]
          },
          "metadata": {},
          "execution_count": 72
        }
      ]
    },
    {
      "cell_type": "code",
      "source": [
        "#Creare una variabile \"testo\" e assegnargli una stringa contenente una frase. Mandare a schermo il tipo della variabile per conferma.\n",
        "testo = \"Dario bravissimo\"\n",
        "type(testo)\n",
        "\n",
        "\n"
      ],
      "metadata": {
        "colab": {
          "base_uri": "https://localhost:8080/"
        },
        "id": "6kGSwYHq5Yoy",
        "outputId": "77c4cb10-83f4-4f5f-fba1-f6ff5ce4dbd0"
      },
      "execution_count": 73,
      "outputs": [
        {
          "output_type": "execute_result",
          "data": {
            "text/plain": [
              "str"
            ]
          },
          "metadata": {},
          "execution_count": 73
        }
      ]
    },
    {
      "cell_type": "code",
      "source": [
        "#Creare una variabile \"valore_booleano\" e assegnargli un valore booleano. Mandare a schermo il tipo della variabile per conferma.\n",
        "valore_booleano = True\n",
        "type(valore_booleano)"
      ],
      "metadata": {
        "colab": {
          "base_uri": "https://localhost:8080/"
        },
        "id": "FNKKEiaU5rCa",
        "outputId": "a009e595-d680-4a6d-9eac-0d431bdf79c7"
      },
      "execution_count": 74,
      "outputs": [
        {
          "output_type": "execute_result",
          "data": {
            "text/plain": [
              "bool"
            ]
          },
          "metadata": {},
          "execution_count": 74
        }
      ]
    },
    {
      "cell_type": "code",
      "source": [
        "#Creare una lista \"numeri\" contenente 5 numeri interi. Mandare a schermo il tipo della variabile per conferma.\n",
        "numeri = [1, 2, 3, 4, 5]\n",
        "type(numeri)\n"
      ],
      "metadata": {
        "colab": {
          "base_uri": "https://localhost:8080/"
        },
        "id": "04sFX1hB5vct",
        "outputId": "c39387e5-75e7-4b52-c678-6b319d234e7d"
      },
      "execution_count": 75,
      "outputs": [
        {
          "output_type": "execute_result",
          "data": {
            "text/plain": [
              "list"
            ]
          },
          "metadata": {},
          "execution_count": 75
        }
      ]
    },
    {
      "cell_type": "code",
      "source": [
        "#Creare una lista \"misti\" contenente un numero intero, un numero float, una stringa e un valore booleano. Mandare a schermo il tipo della variabile per conferma.\n",
        "misti = [1, 2.0, \"3\", True]\n",
        "type(misti)\n"
      ],
      "metadata": {
        "colab": {
          "base_uri": "https://localhost:8080/"
        },
        "id": "ZOU4t-aX508S",
        "outputId": "e51c5098-e406-4938-c6fc-546347aa4301"
      },
      "execution_count": 76,
      "outputs": [
        {
          "output_type": "execute_result",
          "data": {
            "text/plain": [
              "list"
            ]
          },
          "metadata": {},
          "execution_count": 76
        }
      ]
    },
    {
      "cell_type": "code",
      "source": [
        "#Creare una tupla \"giorni_settimana\" contenente i giorni della settimana come stringhe. Mandare a schermo il tipo della variabile per conferma.\n",
        "giorni_settimana = (\"lunedì\", \"martedì\", \"mercoledì\", \"giovedì\", \"venerdì\", \"sabato\", \"domenica\")\n",
        "type(giorni_settimana)\n"
      ],
      "metadata": {
        "colab": {
          "base_uri": "https://localhost:8080/"
        },
        "id": "i-k9qVAI57AT",
        "outputId": "cf5431c1-f80f-4a2b-f5ca-79357d2b7ba9"
      },
      "execution_count": 77,
      "outputs": [
        {
          "output_type": "execute_result",
          "data": {
            "text/plain": [
              "tuple"
            ]
          },
          "metadata": {},
          "execution_count": 77
        }
      ]
    },
    {
      "cell_type": "code",
      "source": [
        "#Creare un dizionario \"informazioni_personali\" contenente il tuo nome, cognome, età e città di residenza. Mandare a schermo il tipo della variabile per conferma.\n",
        "informazioni_personali = {\"nome\": \"Francesca\", \"cognome\": \"Fimiani\", \"età\": 22, \"città di residenza\": \"Milano\"}\n",
        "type(informazioni_personali)"
      ],
      "metadata": {
        "colab": {
          "base_uri": "https://localhost:8080/"
        },
        "id": "bI50CLyl6DZu",
        "outputId": "02cfbd4c-3b77-4f0b-eeb9-9ac3352706a2"
      },
      "execution_count": 78,
      "outputs": [
        {
          "output_type": "execute_result",
          "data": {
            "text/plain": [
              "dict"
            ]
          },
          "metadata": {},
          "execution_count": 78
        }
      ]
    },
    {
      "cell_type": "code",
      "source": [],
      "metadata": {
        "id": "QqOimajm6JzG"
      },
      "execution_count": null,
      "outputs": []
    }
  ]
}