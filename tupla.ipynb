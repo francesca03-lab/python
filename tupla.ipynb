{
  "nbformat": 4,
  "nbformat_minor": 0,
  "metadata": {
    "colab": {
      "provenance": [],
      "authorship_tag": "ABX9TyOOaIK2VNmuowCq4qdtMLlc",
      "include_colab_link": true
    },
    "kernelspec": {
      "name": "python3",
      "display_name": "Python 3"
    },
    "language_info": {
      "name": "python"
    }
  },
  "cells": [
    {
      "cell_type": "markdown",
      "metadata": {
        "id": "view-in-github",
        "colab_type": "text"
      },
      "source": [
        "<a href=\"https://colab.research.google.com/github/francesca03-lab/python/blob/main/tupla.ipynb\" target=\"_parent\"><img src=\"https://colab.research.google.com/assets/colab-badge.svg\" alt=\"Open In Colab\"/></a>"
      ]
    },
    {
      "cell_type": "code",
      "execution_count": 1,
      "metadata": {
        "colab": {
          "base_uri": "https://localhost:8080/"
        },
        "id": "G792m-n11DHU",
        "outputId": "3ebc868b-6477-465e-fa09-537f6e8ce6a8"
      },
      "outputs": [
        {
          "output_type": "stream",
          "name": "stdout",
          "text": [
            "()\n"
          ]
        }
      ],
      "source": [
        "#Esercizio 1\n",
        "#Creare una tupla vuota e assegnarla a una variabile.\n",
        "tupla = ()\n",
        "print(tupla)"
      ]
    },
    {
      "cell_type": "code",
      "source": [
        "#Creare una tupla con i seguenti elementi: \"mela\", \"kiwi\", \"lampone\"\n",
        "tupla = (\"mela\", \"kiwi\", \"lampone\")\n",
        "print(tupla)"
      ],
      "metadata": {
        "colab": {
          "base_uri": "https://localhost:8080/"
        },
        "id": "J9EMxomu1QXG",
        "outputId": "0a49fdcb-33f3-4a45-aedb-826cdba40b5f"
      },
      "execution_count": 2,
      "outputs": [
        {
          "output_type": "stream",
          "name": "stdout",
          "text": [
            "('mela', 'kiwi', 'lampone')\n"
          ]
        }
      ]
    },
    {
      "cell_type": "code",
      "source": [
        "#Accedere all'elemento \"kiwi\" della tupla precedente\n",
        "print(tupla[1])"
      ],
      "metadata": {
        "colab": {
          "base_uri": "https://localhost:8080/"
        },
        "id": "PVQZgmHK1ZD9",
        "outputId": "567b6b9f-6211-43b7-e7a8-3a6f5705c85e"
      },
      "execution_count": 3,
      "outputs": [
        {
          "output_type": "stream",
          "name": "stdout",
          "text": [
            "kiwi\n"
          ]
        }
      ]
    },
    {
      "cell_type": "code",
      "source": [
        "#Creare una nuova tupla che contenga solo i primi due elementi della tupla precedente.\n",
        "tupla2 = tupla [0:2]\n",
        "print(tupla2)"
      ],
      "metadata": {
        "colab": {
          "base_uri": "https://localhost:8080/"
        },
        "id": "E8qZ92S-1prc",
        "outputId": "27ff0df9-c5fa-4d2d-edbb-236e94d38766"
      },
      "execution_count": 4,
      "outputs": [
        {
          "output_type": "stream",
          "name": "stdout",
          "text": [
            "('mela', 'kiwi')\n"
          ]
        }
      ]
    },
    {
      "cell_type": "code",
      "source": [
        "#Verificare se l'elemento \"ananas\" è presente nella tupla precedente\n",
        "if \"ananas\" in tupla:\n",
        "    print(\"ananas è presente nella tupla\")\n",
        "else:\n",
        "    print(\"Non è presente\")"
      ],
      "metadata": {
        "colab": {
          "base_uri": "https://localhost:8080/"
        },
        "id": "mjpRswxR11Wx",
        "outputId": "c8c604af-e96e-4c33-e796-60a255b1e505"
      },
      "execution_count": 7,
      "outputs": [
        {
          "output_type": "stream",
          "name": "stdout",
          "text": [
            "Non è presente\n"
          ]
        }
      ]
    },
    {
      "cell_type": "code",
      "source": [
        "#Creare una nuova tupla concatenando la tupla precedente con la tupla (\"pesca\", \"arancia\").\n",
        "tupla3 = tupla + (\"pesca\", \"arancia\")\n",
        "print(tupla3)"
      ],
      "metadata": {
        "colab": {
          "base_uri": "https://localhost:8080/"
        },
        "id": "PRa9Mnl72VmF",
        "outputId": "aa3df65b-0818-44ee-a707-1c249bb1a5a6"
      },
      "execution_count": 9,
      "outputs": [
        {
          "output_type": "stream",
          "name": "stdout",
          "text": [
            "('mela', 'kiwi', 'lampone', 'pesca', 'arancia')\n"
          ]
        }
      ]
    },
    {
      "cell_type": "code",
      "source": [
        "#Creare una tupla contenente i numeri interi da 1 a 5.\n",
        "tupla = (1,2,3,4,5)\n",
        "print(tupla)"
      ],
      "metadata": {
        "colab": {
          "base_uri": "https://localhost:8080/"
        },
        "id": "-wlANQkZ4ZWK",
        "outputId": "50286c45-ec04-491c-ec40-107cce32399a"
      },
      "execution_count": 11,
      "outputs": [
        {
          "output_type": "stream",
          "name": "stdout",
          "text": [
            "(1, 2, 3, 4, 5)\n"
          ]
        }
      ]
    },
    {
      "cell_type": "code",
      "source": [
        "#Creare una tupla contenente il quadrato dei numeri interi da 1 a 5.\n",
        "quadrati = tuple(numero ** 2 for numero in range(1, 6))\n",
        "print(quadrati)\n",
        "\n"
      ],
      "metadata": {
        "colab": {
          "base_uri": "https://localhost:8080/"
        },
        "id": "jWXhK8bg5Eys",
        "outputId": "8c48eb26-c695-4dc7-f7e7-24eda4d0a70b"
      },
      "execution_count": 12,
      "outputs": [
        {
          "output_type": "stream",
          "name": "stdout",
          "text": [
            "(1, 4, 9, 16, 25)\n"
          ]
        }
      ]
    },
    {
      "cell_type": "code",
      "source": [],
      "metadata": {
        "id": "rXSl01M85nJo"
      },
      "execution_count": null,
      "outputs": []
    }
  ]
}